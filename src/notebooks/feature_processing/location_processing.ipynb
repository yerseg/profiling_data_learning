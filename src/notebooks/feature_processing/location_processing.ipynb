{
 "cells": [
  {
   "cell_type": "code",
   "execution_count": 28,
   "metadata": {},
   "outputs": [],
   "source": [
    "import pandas as pd\n",
    "import numpy as np\n",
    "import re\n",
    "from datetime import datetime as dt\n",
    "import scipy.stats as stats\n",
    "from geopy.distance import distance as geodist\n",
    "\n",
    "%matplotlib inline"
   ]
  },
  {
   "cell_type": "code",
   "execution_count": 29,
   "metadata": {},
   "outputs": [],
   "source": [
    "TIME_SAMPLE_FREQ = '500s'"
   ]
  },
  {
   "cell_type": "code",
   "execution_count": 30,
   "metadata": {},
   "outputs": [],
   "source": [
    "df = pd.read_csv(\"..\\\\..\\\\scripts\\\\_split_all\\\\user_1\\location.data\", sep=';', index_col = False, header = None, low_memory = False, \\\n",
    "                 names = ['timestamp', 'accuracy', 'altitude', 'latitude', 'longitude'])"
   ]
  },
  {
   "cell_type": "code",
   "execution_count": 31,
   "metadata": {
    "scrolled": false
   },
   "outputs": [
    {
     "data": {
      "text/html": [
       "<div>\n",
       "<style scoped>\n",
       "    .dataframe tbody tr th:only-of-type {\n",
       "        vertical-align: middle;\n",
       "    }\n",
       "\n",
       "    .dataframe tbody tr th {\n",
       "        vertical-align: top;\n",
       "    }\n",
       "\n",
       "    .dataframe thead th {\n",
       "        text-align: right;\n",
       "    }\n",
       "</style>\n",
       "<table border=\"1\" class=\"dataframe\">\n",
       "  <thead>\n",
       "    <tr style=\"text-align: right;\">\n",
       "      <th></th>\n",
       "      <th>timestamp</th>\n",
       "      <th>accuracy</th>\n",
       "      <th>altitude</th>\n",
       "      <th>latitude</th>\n",
       "      <th>longitude</th>\n",
       "    </tr>\n",
       "  </thead>\n",
       "  <tbody>\n",
       "    <tr>\n",
       "      <th>0</th>\n",
       "      <td>08.03.2021_15:15:05.761</td>\n",
       "      <td>23,177999</td>\n",
       "      <td>140,760012</td>\n",
       "      <td>52,610334</td>\n",
       "      <td>39,594224</td>\n",
       "    </tr>\n",
       "    <tr>\n",
       "      <th>1</th>\n",
       "      <td>08.03.2021_15:15:10.717</td>\n",
       "      <td>19,396000</td>\n",
       "      <td>140,720483</td>\n",
       "      <td>52,610474</td>\n",
       "      <td>39,594158</td>\n",
       "    </tr>\n",
       "    <tr>\n",
       "      <th>2</th>\n",
       "      <td>08.03.2021_15:15:11.504</td>\n",
       "      <td>23,584000</td>\n",
       "      <td>140,708798</td>\n",
       "      <td>52,610399</td>\n",
       "      <td>39,594220</td>\n",
       "    </tr>\n",
       "    <tr>\n",
       "      <th>3</th>\n",
       "      <td>08.03.2021_15:15:14.474</td>\n",
       "      <td>19,308001</td>\n",
       "      <td>140,768349</td>\n",
       "      <td>52,610435</td>\n",
       "      <td>39,594193</td>\n",
       "    </tr>\n",
       "    <tr>\n",
       "      <th>4</th>\n",
       "      <td>08.03.2021_15:15:18.483</td>\n",
       "      <td>14,046000</td>\n",
       "      <td>140,809834</td>\n",
       "      <td>52,610438</td>\n",
       "      <td>39,594164</td>\n",
       "    </tr>\n",
       "  </tbody>\n",
       "</table>\n",
       "</div>"
      ],
      "text/plain": [
       "                 timestamp   accuracy    altitude   latitude  longitude\n",
       "0  08.03.2021_15:15:05.761  23,177999  140,760012  52,610334  39,594224\n",
       "1  08.03.2021_15:15:10.717  19,396000  140,720483  52,610474  39,594158\n",
       "2  08.03.2021_15:15:11.504  23,584000  140,708798  52,610399  39,594220\n",
       "3  08.03.2021_15:15:14.474  19,308001  140,768349  52,610435  39,594193\n",
       "4  08.03.2021_15:15:18.483  14,046000  140,809834  52,610438  39,594164"
      ]
     },
     "execution_count": 31,
     "metadata": {},
     "output_type": "execute_result"
    }
   ],
   "source": [
    "df.head()"
   ]
  },
  {
   "cell_type": "code",
   "execution_count": 32,
   "metadata": {},
   "outputs": [
    {
     "name": "stdout",
     "output_type": "stream",
     "text": [
      "<class 'pandas.core.frame.DataFrame'>\n",
      "RangeIndex: 11118 entries, 0 to 11117\n",
      "Data columns (total 5 columns):\n",
      "timestamp    11118 non-null object\n",
      "accuracy     11118 non-null object\n",
      "altitude     11118 non-null object\n",
      "latitude     11118 non-null object\n",
      "longitude    11118 non-null object\n",
      "dtypes: object(5)\n",
      "memory usage: 434.4+ KB\n"
     ]
    }
   ],
   "source": [
    "df.info()"
   ]
  },
  {
   "cell_type": "code",
   "execution_count": 33,
   "metadata": {},
   "outputs": [],
   "source": [
    "df['timestamp'] = df['timestamp'].apply(lambda x: dt.strptime(x, '%d.%m.%Y_%H:%M:%S.%f'))"
   ]
  },
  {
   "cell_type": "code",
   "execution_count": 34,
   "metadata": {},
   "outputs": [],
   "source": [
    "df.index = pd.DatetimeIndex(df.timestamp)\n",
    "df = df.sort_index()"
   ]
  },
  {
   "cell_type": "code",
   "execution_count": 35,
   "metadata": {},
   "outputs": [],
   "source": [
    "df['accuracy'] = df['accuracy'].apply(lambda x: x.replace(',', '.'))\n",
    "df['altitude'] = df['altitude'].apply(lambda x: x.replace(',', '.'))\n",
    "df['latitude'] = df['latitude'].apply(lambda x: x.replace(',', '.'))\n",
    "df['longitude'] = df['longitude'].apply(lambda x: x.replace(',', '.'))"
   ]
  },
  {
   "cell_type": "code",
   "execution_count": 36,
   "metadata": {},
   "outputs": [],
   "source": [
    "df['accuracy'] = df['accuracy'].astype(float)\n",
    "df['altitude'] = df['altitude'].astype(float)\n",
    "df['latitude'] = df['latitude'].astype(float)\n",
    "df['longitude'] = df['longitude'].astype(float)"
   ]
  },
  {
   "cell_type": "code",
   "execution_count": 37,
   "metadata": {},
   "outputs": [],
   "source": [
    "df['prev_latitude'] = df['latitude'].shift(1)\n",
    "df['prev_longitude'] = df['longitude'].shift(1)\n",
    "df['prev_timestamp'] = df['timestamp'].shift(1)\n",
    "df['prev_altitude'] = df['altitude'].shift(1)"
   ]
  },
  {
   "cell_type": "code",
   "execution_count": 38,
   "metadata": {},
   "outputs": [],
   "source": [
    "def get_speed(row):\n",
    "    prev_coords = (row['prev_latitude'], row['prev_longitude'])\n",
    "    curr_coords = (row['latitude'], row['longitude'])\n",
    "    delta = row['timestamp'] - row['prev_timestamp']\n",
    "    if pd.isnull(delta):\n",
    "        return np.nan\n",
    "    time = abs(delta.total_seconds())\n",
    "    if np.isnan(prev_coords[0]) or np.isnan(prev_coords[1]) or np.isnan(curr_coords[0]) or np.isnan(curr_coords[1]):\n",
    "        return np.nan\n",
    "    if time == 0:\n",
    "        return np.nan\n",
    "    return geodist(curr_coords, prev_coords).meters / time\n",
    "\n",
    "def get_altitude_speed(row):\n",
    "    prev = row['prev_altitude']\n",
    "    curr = row['altitude']\n",
    "    delta = row['timestamp'] - row['prev_timestamp']\n",
    "    if pd.isnull(delta):\n",
    "        return np.nan\n",
    "    time = abs(delta.total_seconds())\n",
    "    if np.isnan(prev) or np.isnan(curr):\n",
    "        return np.nan\n",
    "    if time == 0:\n",
    "        return np.nan\n",
    "    return abs(curr - prev) / time"
   ]
  },
  {
   "cell_type": "code",
   "execution_count": 39,
   "metadata": {},
   "outputs": [],
   "source": [
    "df['speed'] = df.apply(lambda row: get_speed(row), axis=1)"
   ]
  },
  {
   "cell_type": "code",
   "execution_count": 40,
   "metadata": {
    "scrolled": false
   },
   "outputs": [],
   "source": [
    "df['altitude_speed'] = df.apply(lambda row: get_altitude_speed(row), axis=1)"
   ]
  },
  {
   "cell_type": "code",
   "execution_count": 41,
   "metadata": {},
   "outputs": [],
   "source": [
    "df = df.drop(['prev_latitude', 'prev_longitude', 'prev_altitude'], axis=1)"
   ]
  },
  {
   "cell_type": "code",
   "execution_count": 42,
   "metadata": {},
   "outputs": [],
   "source": [
    "df['prev_speed'] = df['speed'].shift(1)\n",
    "df['prev_altitude_speed'] = df['altitude_speed'].shift(1)"
   ]
  },
  {
   "cell_type": "code",
   "execution_count": 43,
   "metadata": {},
   "outputs": [],
   "source": [
    "df = df.drop(['prev_altitude_speed', 'prev_speed', 'timestamp', 'prev_timestamp'], axis=1)"
   ]
  },
  {
   "cell_type": "code",
   "execution_count": 44,
   "metadata": {},
   "outputs": [],
   "source": [
    "def kurt(col):\n",
    "    return stats.kurtosis(col)\n",
    "\n",
    "common_funcs_list = ['mean', 'var', 'median', 'skew', kurt, 'std']"
   ]
  },
  {
   "cell_type": "code",
   "execution_count": 45,
   "metadata": {},
   "outputs": [],
   "source": [
    "agg_dict = {\n",
    "    'accuracy': common_funcs_list,\n",
    "    'speed': common_funcs_list,\n",
    "    'altitude_speed': common_funcs_list,\n",
    "}"
   ]
  },
  {
   "cell_type": "code",
   "execution_count": 46,
   "metadata": {},
   "outputs": [],
   "source": [
    "df_sampling = df.groupby(pd.Grouper(freq = TIME_SAMPLE_FREQ)).agg(agg_dict)"
   ]
  },
  {
   "cell_type": "code",
   "execution_count": 47,
   "metadata": {},
   "outputs": [],
   "source": [
    "df_sampling.columns = [\"_\".join([str(high_level_name), str(low_level_name)]) \\\n",
    "                       for (high_level_name, low_level_name) in df_sampling.columns.values]"
   ]
  },
  {
   "cell_type": "code",
   "execution_count": 48,
   "metadata": {},
   "outputs": [],
   "source": [
    "df_rolling = df.rolling(TIME_SAMPLE_FREQ, min_periods = 1, center = False).agg(agg_dict)"
   ]
  },
  {
   "cell_type": "code",
   "execution_count": 49,
   "metadata": {},
   "outputs": [],
   "source": [
    "df_rolling.columns = [\"_\".join([str(high_level_name), str(low_level_name)]) \\\n",
    "                       for (high_level_name, low_level_name) in df_rolling.columns.values]"
   ]
  },
  {
   "cell_type": "code",
   "execution_count": 50,
   "metadata": {},
   "outputs": [],
   "source": [
    "df_sampling = df_sampling.dropna()\n",
    "df_sampling = df_sampling.fillna(0)\n",
    "\n",
    "df_rolling = df_rolling.dropna()\n",
    "df_rolling = df_rolling.fillna(0)"
   ]
  },
  {
   "cell_type": "code",
   "execution_count": 26,
   "metadata": {},
   "outputs": [],
   "source": [
    "df_sampling.to_csv(\".\\\\_datasets\\\\location_sampling_dataset_4.csv\")\n",
    "df_rolling.to_csv(\".\\\\_datasets\\\\location_rolling_dataset_4.csv\")"
   ]
  }
 ],
 "metadata": {
  "kernelspec": {
   "display_name": "Python 3",
   "language": "python",
   "name": "python3"
  },
  "language_info": {
   "codemirror_mode": {
    "name": "ipython",
    "version": 3
   },
   "file_extension": ".py",
   "mimetype": "text/x-python",
   "name": "python",
   "nbconvert_exporter": "python",
   "pygments_lexer": "ipython3",
   "version": "3.7.3"
  }
 },
 "nbformat": 4,
 "nbformat_minor": 2
}