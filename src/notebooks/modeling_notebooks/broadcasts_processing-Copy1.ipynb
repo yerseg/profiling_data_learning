{
 "cells": [
  {
   "cell_type": "code",
   "execution_count": 11,
   "metadata": {},
   "outputs": [],
   "source": [
    "import pandas as pd\n",
    "import numpy as np\n",
    "import re\n",
    "from datetime import datetime as dt\n",
    "from scipy.spatial import distance\n",
    "import scipy.stats as stats\n",
    "\n",
    "%matplotlib inline"
   ]
  },
  {
   "cell_type": "code",
   "execution_count": 12,
   "metadata": {},
   "outputs": [],
   "source": [
    "TIME_SAMPLE_FREQ = '5s'"
   ]
  },
  {
   "cell_type": "code",
   "execution_count": 13,
   "metadata": {},
   "outputs": [],
   "source": [
    "df = pd.read_csv(\".\\\\_events\\\\_generated\\\\valid_user_3\\\\broadcasts_0.data\", sep = ';', index_col = False, header = None, low_memory = False, \\\n",
    "                 names = ['timestamp', 'action', 'data', 'package', 'scheme', 'type', 'user'])"
   ]
  },
  {
   "cell_type": "code",
   "execution_count": 14,
   "metadata": {
    "scrolled": false
   },
   "outputs": [
    {
     "data": {
      "text/html": [
       "<div>\n",
       "<style scoped>\n",
       "    .dataframe tbody tr th:only-of-type {\n",
       "        vertical-align: middle;\n",
       "    }\n",
       "\n",
       "    .dataframe tbody tr th {\n",
       "        vertical-align: top;\n",
       "    }\n",
       "\n",
       "    .dataframe thead th {\n",
       "        text-align: right;\n",
       "    }\n",
       "</style>\n",
       "<table border=\"1\" class=\"dataframe\">\n",
       "  <thead>\n",
       "    <tr style=\"text-align: right;\">\n",
       "      <th></th>\n",
       "      <th>timestamp</th>\n",
       "      <th>action</th>\n",
       "      <th>data</th>\n",
       "      <th>package</th>\n",
       "      <th>scheme</th>\n",
       "      <th>type</th>\n",
       "      <th>user</th>\n",
       "    </tr>\n",
       "  </thead>\n",
       "  <tbody>\n",
       "    <tr>\n",
       "      <th>0</th>\n",
       "      <td>2021-03-08 22:00:08.476</td>\n",
       "      <td>android.bluetooth.adapter.action.DISCOVERY_FIN...</td>\n",
       "      <td>NaN</td>\n",
       "      <td>NaN</td>\n",
       "      <td>NaN</td>\n",
       "      <td>NaN</td>\n",
       "      <td>3</td>\n",
       "    </tr>\n",
       "    <tr>\n",
       "      <th>1</th>\n",
       "      <td>2021-03-08 22:00:09.431</td>\n",
       "      <td>android.bluetooth.adapter.action.DISCOVERY_STA...</td>\n",
       "      <td>NaN</td>\n",
       "      <td>NaN</td>\n",
       "      <td>NaN</td>\n",
       "      <td>NaN</td>\n",
       "      <td>3</td>\n",
       "    </tr>\n",
       "    <tr>\n",
       "      <th>2</th>\n",
       "      <td>2021-03-08 22:00:09.517</td>\n",
       "      <td>android.bluetooth.device.action.FOUND</td>\n",
       "      <td>NaN</td>\n",
       "      <td>NaN</td>\n",
       "      <td>NaN</td>\n",
       "      <td>NaN</td>\n",
       "      <td>3</td>\n",
       "    </tr>\n",
       "    <tr>\n",
       "      <th>3</th>\n",
       "      <td>2021-03-08 22:00:10.670</td>\n",
       "      <td>android.intent.action.SERVICE_STATE</td>\n",
       "      <td>NaN</td>\n",
       "      <td>NaN</td>\n",
       "      <td>NaN</td>\n",
       "      <td>NaN</td>\n",
       "      <td>3</td>\n",
       "    </tr>\n",
       "    <tr>\n",
       "      <th>4</th>\n",
       "      <td>2021-03-08 22:00:11.887</td>\n",
       "      <td>android.net.wifi.SCAN_RESULTS</td>\n",
       "      <td>NaN</td>\n",
       "      <td>com.yerseg.profiler</td>\n",
       "      <td>NaN</td>\n",
       "      <td>NaN</td>\n",
       "      <td>3</td>\n",
       "    </tr>\n",
       "  </tbody>\n",
       "</table>\n",
       "</div>"
      ],
      "text/plain": [
       "                 timestamp                                             action  \\\n",
       "0  2021-03-08 22:00:08.476  android.bluetooth.adapter.action.DISCOVERY_FIN...   \n",
       "1  2021-03-08 22:00:09.431  android.bluetooth.adapter.action.DISCOVERY_STA...   \n",
       "2  2021-03-08 22:00:09.517              android.bluetooth.device.action.FOUND   \n",
       "3  2021-03-08 22:00:10.670                android.intent.action.SERVICE_STATE   \n",
       "4  2021-03-08 22:00:11.887                      android.net.wifi.SCAN_RESULTS   \n",
       "\n",
       "   data              package  scheme  type  user  \n",
       "0   NaN                  NaN     NaN   NaN     3  \n",
       "1   NaN                  NaN     NaN   NaN     3  \n",
       "2   NaN                  NaN     NaN   NaN     3  \n",
       "3   NaN                  NaN     NaN   NaN     3  \n",
       "4   NaN  com.yerseg.profiler     NaN   NaN     3  "
      ]
     },
     "execution_count": 14,
     "metadata": {},
     "output_type": "execute_result"
    }
   ],
   "source": [
    "df.head()"
   ]
  },
  {
   "cell_type": "code",
   "execution_count": 15,
   "metadata": {},
   "outputs": [
    {
     "name": "stdout",
     "output_type": "stream",
     "text": [
      "<class 'pandas.core.frame.DataFrame'>\n",
      "RangeIndex: 237 entries, 0 to 236\n",
      "Data columns (total 7 columns):\n",
      "timestamp    237 non-null object\n",
      "action       237 non-null object\n",
      "data         0 non-null float64\n",
      "package      105 non-null object\n",
      "scheme       0 non-null float64\n",
      "type         0 non-null float64\n",
      "user         237 non-null int64\n",
      "dtypes: float64(3), int64(1), object(3)\n",
      "memory usage: 13.0+ KB\n"
     ]
    }
   ],
   "source": [
    "df.info()"
   ]
  },
  {
   "cell_type": "code",
   "execution_count": 16,
   "metadata": {
    "pycharm": {
     "name": "#%%\n"
    }
   },
   "outputs": [],
   "source": [
    "drop_actions = [\n",
    "  'android.net.wifi.SCAN_RESULTS',\n",
    "  'android.bluetooth.device.action.FOUND',\n",
    "  'android.bluetooth.adapter.action.DISCOVERY_STARTED',\n",
    "  'android.bluetooth.adapter.action.DISCOVERY_FINISHED'\n",
    "]\n",
    "\n",
    "df = df[~df['action'].str.contains('|'.join(drop_actions))]\n",
    "df = df.drop(['data', 'package', 'scheme', 'type'], axis = 1)"
   ]
  },
  {
   "cell_type": "code",
   "execution_count": 17,
   "metadata": {},
   "outputs": [],
   "source": [
    "df.index = pd.DatetimeIndex(df.timestamp)\n",
    "df = df.sort_index()"
   ]
  },
  {
   "cell_type": "code",
   "execution_count": 18,
   "metadata": {},
   "outputs": [],
   "source": [
    "df['events_count'] = 1"
   ]
  },
  {
   "cell_type": "code",
   "execution_count": 21,
   "metadata": {},
   "outputs": [],
   "source": [
    "VALID_USER = VALID_USER = df.iloc[0]['user']\n",
    "df['user'] = df['user'].apply(lambda x: 1 if x == VALID_USER else 0)"
   ]
  },
  {
   "cell_type": "code",
   "execution_count": 22,
   "metadata": {},
   "outputs": [],
   "source": [
    "df = df.drop(['timestamp'], axis = 1)"
   ]
  },
  {
   "cell_type": "code",
   "execution_count": 9,
   "metadata": {},
   "outputs": [],
   "source": [
    "df.to_csv(\".\\\\_datasets\\\\broadcasts_dataset_1.csv\")"
   ]
  },
  {
   "cell_type": "code",
   "execution_count": null,
   "metadata": {},
   "outputs": [],
   "source": []
  },
  {
   "cell_type": "code",
   "execution_count": null,
   "metadata": {},
   "outputs": [],
   "source": []
  }
 ],
 "metadata": {
  "kernelspec": {
   "display_name": "Python 3",
   "language": "python",
   "name": "python3"
  },
  "language_info": {
   "codemirror_mode": {
    "name": "ipython",
    "version": 3
   },
   "file_extension": ".py",
   "mimetype": "text/x-python",
   "name": "python",
   "nbconvert_exporter": "python",
   "pygments_lexer": "ipython3",
   "version": "3.7.3"
  }
 },
 "nbformat": 4,
 "nbformat_minor": 2
}
