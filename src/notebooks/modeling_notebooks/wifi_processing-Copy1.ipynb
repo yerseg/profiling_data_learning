{
 "cells": [
  {
   "cell_type": "code",
   "execution_count": 1,
   "metadata": {},
   "outputs": [],
   "source": [
    "import pandas as pd\n",
    "import numpy as np\n",
    "import re\n",
    "from datetime import datetime as dt\n",
    "from scipy.spatial import distance\n",
    "import scipy.stats as stats\n",
    "\n",
    "%matplotlib inline"
   ]
  },
  {
   "cell_type": "code",
   "execution_count": 2,
   "metadata": {},
   "outputs": [],
   "source": [
    "TIME_SAMPLE_FREQ = '30s'"
   ]
  },
  {
   "cell_type": "code",
   "execution_count": 3,
   "metadata": {},
   "outputs": [],
   "source": [
    "df = pd.read_csv(\".\\\\_events\\\\_generated\\\\valid_user_3\\\\base_wifi_0.data\", sep = ';', index_col = False, header = None, low_memory = False, \\\n",
    "                 names = ['timestamp', 'uuid', 'bssid', 'chwidth', 'freq', 'level', 'user'])"
   ]
  },
  {
   "cell_type": "code",
   "execution_count": 4,
   "metadata": {
    "scrolled": false
   },
   "outputs": [
    {
     "data": {
      "text/html": [
       "<div>\n",
       "<style scoped>\n",
       "    .dataframe tbody tr th:only-of-type {\n",
       "        vertical-align: middle;\n",
       "    }\n",
       "\n",
       "    .dataframe tbody tr th {\n",
       "        vertical-align: top;\n",
       "    }\n",
       "\n",
       "    .dataframe thead th {\n",
       "        text-align: right;\n",
       "    }\n",
       "</style>\n",
       "<table border=\"1\" class=\"dataframe\">\n",
       "  <thead>\n",
       "    <tr style=\"text-align: right;\">\n",
       "      <th></th>\n",
       "      <th>timestamp</th>\n",
       "      <th>uuid</th>\n",
       "      <th>bssid</th>\n",
       "      <th>chwidth</th>\n",
       "      <th>freq</th>\n",
       "      <th>level</th>\n",
       "      <th>user</th>\n",
       "    </tr>\n",
       "  </thead>\n",
       "  <tbody>\n",
       "    <tr>\n",
       "      <th>0</th>\n",
       "      <td>2021-03-09 18:51:38.850</td>\n",
       "      <td>6e33bee6-e4c6-46c5-9b91-32586512120e</td>\n",
       "      <td>b0:95:75:91:08:82</td>\n",
       "      <td>1</td>\n",
       "      <td>2422</td>\n",
       "      <td>-83</td>\n",
       "      <td>3</td>\n",
       "    </tr>\n",
       "    <tr>\n",
       "      <th>1</th>\n",
       "      <td>2021-03-09 18:51:38.850</td>\n",
       "      <td>6e33bee6-e4c6-46c5-9b91-32586512120e</td>\n",
       "      <td>2c:56:dc:40:e5:3c</td>\n",
       "      <td>0</td>\n",
       "      <td>2412</td>\n",
       "      <td>-82</td>\n",
       "      <td>3</td>\n",
       "    </tr>\n",
       "    <tr>\n",
       "      <th>2</th>\n",
       "      <td>2021-03-09 18:51:38.850</td>\n",
       "      <td>6e33bee6-e4c6-46c5-9b91-32586512120e</td>\n",
       "      <td>88:d7:f6:5e:c5:64</td>\n",
       "      <td>0</td>\n",
       "      <td>2472</td>\n",
       "      <td>-79</td>\n",
       "      <td>3</td>\n",
       "    </tr>\n",
       "    <tr>\n",
       "      <th>3</th>\n",
       "      <td>2021-03-09 18:51:38.850</td>\n",
       "      <td>6e33bee6-e4c6-46c5-9b91-32586512120e</td>\n",
       "      <td>52:ff:20:43:22:20</td>\n",
       "      <td>2</td>\n",
       "      <td>5260</td>\n",
       "      <td>-59</td>\n",
       "      <td>3</td>\n",
       "    </tr>\n",
       "    <tr>\n",
       "      <th>4</th>\n",
       "      <td>2021-03-09 18:51:38.850</td>\n",
       "      <td>6e33bee6-e4c6-46c5-9b91-32586512120e</td>\n",
       "      <td>50:ff:20:23:22:20</td>\n",
       "      <td>2</td>\n",
       "      <td>5260</td>\n",
       "      <td>-58</td>\n",
       "      <td>3</td>\n",
       "    </tr>\n",
       "  </tbody>\n",
       "</table>\n",
       "</div>"
      ],
      "text/plain": [
       "                 timestamp                                  uuid  \\\n",
       "0  2021-03-09 18:51:38.850  6e33bee6-e4c6-46c5-9b91-32586512120e   \n",
       "1  2021-03-09 18:51:38.850  6e33bee6-e4c6-46c5-9b91-32586512120e   \n",
       "2  2021-03-09 18:51:38.850  6e33bee6-e4c6-46c5-9b91-32586512120e   \n",
       "3  2021-03-09 18:51:38.850  6e33bee6-e4c6-46c5-9b91-32586512120e   \n",
       "4  2021-03-09 18:51:38.850  6e33bee6-e4c6-46c5-9b91-32586512120e   \n",
       "\n",
       "               bssid  chwidth  freq  level  user  \n",
       "0  b0:95:75:91:08:82        1  2422    -83     3  \n",
       "1  2c:56:dc:40:e5:3c        0  2412    -82     3  \n",
       "2  88:d7:f6:5e:c5:64        0  2472    -79     3  \n",
       "3  52:ff:20:43:22:20        2  5260    -59     3  \n",
       "4  50:ff:20:23:22:20        2  5260    -58     3  "
      ]
     },
     "execution_count": 4,
     "metadata": {},
     "output_type": "execute_result"
    }
   ],
   "source": [
    "df.head()"
   ]
  },
  {
   "cell_type": "code",
   "execution_count": 5,
   "metadata": {},
   "outputs": [
    {
     "name": "stdout",
     "output_type": "stream",
     "text": [
      "<class 'pandas.core.frame.DataFrame'>\n",
      "RangeIndex: 181 entries, 0 to 180\n",
      "Data columns (total 7 columns):\n",
      "timestamp    181 non-null object\n",
      "uuid         181 non-null object\n",
      "bssid        181 non-null object\n",
      "chwidth      181 non-null int64\n",
      "freq         181 non-null int64\n",
      "level        181 non-null int64\n",
      "user         181 non-null int64\n",
      "dtypes: int64(4), object(3)\n",
      "memory usage: 10.0+ KB\n"
     ]
    }
   ],
   "source": [
    "df.info()"
   ]
  },
  {
   "cell_type": "code",
   "execution_count": 6,
   "metadata": {},
   "outputs": [],
   "source": [
    "df.index = pd.DatetimeIndex(df.timestamp)\n",
    "df = df.sort_index()"
   ]
  },
  {
   "cell_type": "code",
   "execution_count": 7,
   "metadata": {},
   "outputs": [],
   "source": [
    "VALID_USER = df.iloc[0]['user']\n",
    "df['events_count'] = 1"
   ]
  },
  {
   "cell_type": "code",
   "execution_count": 8,
   "metadata": {},
   "outputs": [],
   "source": [
    "df = df.drop(['timestamp', 'chwidth'], axis = 1)"
   ]
  },
  {
   "cell_type": "code",
   "execution_count": 9,
   "metadata": {},
   "outputs": [
    {
     "name": "stdout",
     "output_type": "stream",
     "text": [
      "<class 'pandas.core.frame.DataFrame'>\n",
      "DatetimeIndex: 181 entries, 2021-03-09 18:51:38.850000 to 2021-03-09 19:01:36.410000\n",
      "Data columns (total 6 columns):\n",
      "uuid            181 non-null object\n",
      "bssid           181 non-null object\n",
      "freq            181 non-null int64\n",
      "level           181 non-null int64\n",
      "user            181 non-null int64\n",
      "events_count    181 non-null int64\n",
      "dtypes: int64(4), object(2)\n",
      "memory usage: 14.9+ KB\n"
     ]
    }
   ],
   "source": [
    "df.info()"
   ]
  },
  {
   "cell_type": "code",
   "execution_count": 10,
   "metadata": {},
   "outputs": [],
   "source": [
    "bssid_map = { bssid.replace(' ', ''): idx for bssid, idx in zip(df.bssid.unique(), range(len(df.bssid.unique()))) }"
   ]
  },
  {
   "cell_type": "code",
   "execution_count": 11,
   "metadata": {},
   "outputs": [],
   "source": [
    "df.bssid = df.bssid.apply(lambda x: str(x).replace(' ', ''))\n",
    "df.level = df.level.apply(lambda x: str(x).replace(' ', ''))\n",
    "df.freq = df.freq.apply(lambda x: str(x).replace(' ', ''))"
   ]
  },
  {
   "cell_type": "code",
   "execution_count": 12,
   "metadata": {},
   "outputs": [],
   "source": [
    "df['bssid_level'] = df[['bssid', 'level']].agg(','.join, axis=1)\n",
    "df['count'] = 1"
   ]
  },
  {
   "cell_type": "code",
   "execution_count": 13,
   "metadata": {},
   "outputs": [],
   "source": [
    "def user_agg(col):\n",
    "    if (col == VALID_USER).all():\n",
    "        return 1\n",
    "    else:\n",
    "        return 0"
   ]
  },
  {
   "cell_type": "code",
   "execution_count": 14,
   "metadata": {},
   "outputs": [],
   "source": [
    "def agg_string_join(col):\n",
    "    col = col.apply(lambda x: str(x))\n",
    "    return col.str.cat(sep = ',').replace(' ', '')"
   ]
  },
  {
   "cell_type": "code",
   "execution_count": 15,
   "metadata": {},
   "outputs": [],
   "source": [
    "def agg_bssid_col(col):\n",
    "    array_len = len(bssid_map)\n",
    "    array = np.zeros(array_len, dtype = 'float')\n",
    "    def fill_array(x):\n",
    "        tmp = x.split(',')\n",
    "        bssid = tmp[0]\n",
    "        level = float(tmp[1])\n",
    "        array[bssid_map[bssid.replace(' ', '')]] = level\n",
    "        return\n",
    "        \n",
    "    col.apply(lambda x: fill_array(x))\n",
    "    return np.array2string(array, separator = ',').replace(' ', '')[1:-1]"
   ]
  },
  {
   "cell_type": "code",
   "execution_count": 16,
   "metadata": {},
   "outputs": [],
   "source": [
    "all_func_dicts_quantum = { 'freq': agg_string_join, 'level': agg_string_join, 'bssid_level' : agg_bssid_col, 'count' : 'sum', \n",
    "                         'events_count' : 'sum', 'user' : user_agg}"
   ]
  },
  {
   "cell_type": "code",
   "execution_count": 17,
   "metadata": {},
   "outputs": [],
   "source": [
    "df_quantum = df.groupby(['timestamp', 'uuid'], as_index=True).agg(all_func_dicts_quantum)"
   ]
  },
  {
   "cell_type": "code",
   "execution_count": 18,
   "metadata": {},
   "outputs": [],
   "source": [
    "df_quantum = df_quantum.reset_index()\n",
    "df_quantum.index = pd.DatetimeIndex(df_quantum.timestamp)"
   ]
  },
  {
   "cell_type": "code",
   "execution_count": 19,
   "metadata": {},
   "outputs": [],
   "source": [
    "df_quantum = df_quantum[df_quantum['count'] != 0]"
   ]
  },
  {
   "cell_type": "code",
   "execution_count": 20,
   "metadata": {},
   "outputs": [],
   "source": [
    "df_conn = pd.read_csv(\".\\\\_events\\\\_generated\\\\valid_user_3\\\\conn_wifi_0.data\", sep = ';', index_col = False, header = None, low_memory = False, \\\n",
    "                 names = ['timestamp', '1', 'bssid', '2', '3', '4', '5', 'level', '6'])\n",
    "\n",
    "df_conn = df_conn.drop(df_conn.columns.difference(['bssid','timestamp', 'level']), axis = 1)\n",
    "df_conn.index = pd.DatetimeIndex(df_conn.timestamp)\n",
    "df_conn = df_conn.sort_index()"
   ]
  },
  {
   "cell_type": "code",
   "execution_count": 21,
   "metadata": {},
   "outputs": [],
   "source": [
    "def get_level_from_row(row):\n",
    "    bssid = df_conn.iloc[df_conn.index.get_loc(row.name, method = 'nearest')]['bssid']\n",
    "    if str(bssid) == 'nan' or str(bssid) == 'null' or str(bssid) == '':\n",
    "        return 0\n",
    "    \n",
    "    level = df_conn.iloc[df_conn.index.get_loc(row.name, method = 'nearest')]['level']\n",
    "    time = dt.strptime(df_conn.iloc[df_conn.index.get_loc(row.name, method = 'nearest')]['timestamp'], '%Y-%m-%d %H:%M:%S.%f')\n",
    "    return level if abs((time - row.name).total_seconds()) <= 10 else 0\n",
    "\n",
    "# df_quantum['conn_level'] = df_quantum.apply(lambda row: get_level_from_row(row), axis = 1)"
   ]
  },
  {
   "cell_type": "code",
   "execution_count": 22,
   "metadata": {},
   "outputs": [],
   "source": [
    "def string2array(string):\n",
    "    try:\n",
    "        array = np.fromstring(string, sep=',')\n",
    "        return array\n",
    "    except:\n",
    "        return np.nan\n",
    "\n",
    "def to_ones_array(array):\n",
    "    try:\n",
    "        array[array != 0] = 1\n",
    "        return array\n",
    "    except:\n",
    "        return np.nan\n",
    "\n",
    "def get_len(obj):\n",
    "    try:\n",
    "        length = len(obj)\n",
    "        return length\n",
    "    except:\n",
    "        return np.nan"
   ]
  },
  {
   "cell_type": "code",
   "execution_count": 23,
   "metadata": {},
   "outputs": [],
   "source": [
    "def get_occured_nets_count(row, prev_col, curr_col):\n",
    "    prev = to_ones_array(string2array(row[prev_col]))\n",
    "    curr = to_ones_array(string2array(row[curr_col]))\n",
    "    intersection = np.logical_and(curr, prev)\n",
    "    diff = np.logical_and(curr, np.logical_not(intersection))\n",
    "    \n",
    "    if (np.count_nonzero(np.logical_or(prev, curr)) == 0):\n",
    "        return 0\n",
    "    \n",
    "    return np.count_nonzero(diff) / np.count_nonzero(np.logical_or(prev, curr))\n",
    "\n",
    "def get_disappeared_nets_count(row, prev_col, curr_col):\n",
    "    prev = to_ones_array(string2array(row[prev_col]))\n",
    "    curr = to_ones_array(string2array(row[curr_col]))\n",
    "    intersection = np.logical_and(curr, prev)\n",
    "    diff = np.logical_and(prev, np.logical_not(intersection))\n",
    "    \n",
    "    if (np.count_nonzero(np.logical_or(prev, curr)) == 0):\n",
    "        return 0\n",
    "    \n",
    "    return np.count_nonzero(diff) / np.count_nonzero(np.logical_or(prev, curr))\n",
    "\n",
    "def get_jaccard_index(row, prev_col, curr_col):\n",
    "    prev = to_ones_array(string2array(row[prev_col]))\n",
    "    curr = to_ones_array(string2array(row[curr_col]))\n",
    "    return distance.jaccard(prev, curr)\n",
    "\n",
    "def get_occur_speed(row, prev_col, curr_col):\n",
    "    prev = to_ones_array(string2array(row[prev_col]))\n",
    "    curr = to_ones_array(string2array(row[curr_col]))\n",
    "    return np.linalg.norm(prev - curr) / np.sqrt(get_len(prev))\n",
    "    \n",
    "def get_level_speed(row, prev_col, curr_col):\n",
    "    prev = string2array(row[prev_col])\n",
    "    curr = string2array(row[curr_col])\n",
    "    return np.linalg.norm(prev - curr) / np.sqrt(get_len(prev))\n",
    "\n",
    "def calc_single_cols_in_window(df, col, new_col, window, func):\n",
    "    def func_wrapper(func, row, prev_col, curr_col):\n",
    "        delta = row.timestamp - row.prev_timestamp\n",
    "        if pd.isnull(delta):\n",
    "            delta = 0\n",
    "        else:\n",
    "            delta = abs(delta.total_seconds())\n",
    "        if delta > 10 * 60:\n",
    "            return np.nan\n",
    "        else:\n",
    "            return func(row, prev_col_name, col)\n",
    "        \n",
    "    new_cols = []\n",
    "        \n",
    "    for i in range(window):\n",
    "        prev_col_name = \"_\".join(['prev', col, str(i + 1)])\n",
    "        new_col_name = \"_\".join([new_col, str(i + 1)])\n",
    "        \n",
    "        df['prev_timestamp'] = df.timestamp.shift(i + 1)\n",
    "        df[prev_col_name] = df[col].shift(i + 1)\n",
    "        df[new_col_name] = df.apply(lambda row: func_wrapper(func, row, prev_col_name, col), axis = 1)\n",
    "        df = df.drop(prev_col_name, axis = 1)\n",
    "        df = df.drop('prev_timestamp', axis = 1)\n",
    "        new_cols.append(new_col_name)\n",
    "        \n",
    "    df[\"_\".join([new_col, 'mean'])] = df[new_cols].mean(axis = 1)\n",
    "    df[\"_\".join([new_col, 'median'])] = df[new_cols].median(axis = 1)\n",
    "    df[\"_\".join([new_col, 'var'])] = df[new_cols].var(axis = 1)\n",
    "        \n",
    "    return df"
   ]
  },
  {
   "cell_type": "code",
   "execution_count": 24,
   "metadata": {},
   "outputs": [],
   "source": [
    "WINDOW_SIZE = 5\n",
    "\n",
    "occur_and_level_columns_map = [\n",
    "    (\"bssid_level\", \"occured_nets_count\", WINDOW_SIZE, get_occured_nets_count),\n",
    "    (\"bssid_level\", \"disappeared_nets_count\", WINDOW_SIZE, get_disappeared_nets_count),\n",
    "    (\"bssid_level\", \"jaccard_index\", WINDOW_SIZE, get_jaccard_index), \n",
    "    (\"bssid_level\", \"occur_speed\", WINDOW_SIZE, get_occur_speed),\n",
    "    (\"bssid_level\", \"level_speed\", WINDOW_SIZE, get_level_speed)\n",
    "]\n",
    "\n",
    "for (col, new_col, window, func) in occur_and_level_columns_map:\n",
    "    df_quantum = calc_single_cols_in_window(df_quantum, col, new_col, window, func)"
   ]
  },
  {
   "cell_type": "code",
   "execution_count": 25,
   "metadata": {},
   "outputs": [],
   "source": [
    "def get_conn_level_speed(row, prev_col, curr_col):\n",
    "    return row[curr_col] - row[prev_col]"
   ]
  },
  {
   "cell_type": "code",
   "execution_count": 26,
   "metadata": {},
   "outputs": [],
   "source": [
    "single_columns_map = [\n",
    "#     (\"conn_level\", \"conn_level_speed\", WINDOW_SIZE, get_conn_level_speed),\n",
    "    (\"count\", \"count_speed\", WINDOW_SIZE, get_conn_level_speed)\n",
    "]\n",
    "\n",
    "for (col, new_col, window, func) in single_columns_map:\n",
    "    df_quantum = calc_single_cols_in_window(df_quantum, col, new_col, window, func)"
   ]
  },
  {
   "cell_type": "code",
   "execution_count": 27,
   "metadata": {},
   "outputs": [],
   "source": [
    "def agg_str(col):\n",
    "#     all_freq = col.str.cat(sep=',')\n",
    "    return string2array(col)\n",
    "\n",
    "def str_mean(col):\n",
    "    array = agg_str(col)\n",
    "    if str(array) == 'nan':\n",
    "        return 0 \n",
    "    return np.mean(array)\n",
    "\n",
    "def mean(col):\n",
    "    return np.mean(col)\n",
    "\n",
    "def var(col):\n",
    "    return np.var(col)\n",
    "\n",
    "def median(col):\n",
    "    return np.median(col)\n",
    "\n",
    "def skew(col):\n",
    "    return stats.skew(col)\n",
    "\n",
    "def kurt(col):\n",
    "    return stats.kurtosis(col)\n",
    "\n",
    "def user_agg(col):\n",
    "    if (col == 1).all():\n",
    "        return 1\n",
    "    else:\n",
    "        return 0"
   ]
  },
  {
   "cell_type": "code",
   "execution_count": 28,
   "metadata": {},
   "outputs": [],
   "source": [
    "df_quantum['freq'] = df_quantum.apply(lambda row: str_mean(row['freq']), axis = 1)\n",
    "df_quantum['level'] = df_quantum.apply(lambda row: str_mean(row['level']), axis = 1)"
   ]
  },
  {
   "cell_type": "code",
   "execution_count": 29,
   "metadata": {},
   "outputs": [],
   "source": [
    "cols_for_drop = []\n",
    "names = [\n",
    "    \"occured_nets_count\",\n",
    "    \"disappeared_nets_count\",\n",
    "    \"jaccard_index\",\n",
    "    \"occur_speed\",\n",
    "    \"count_speed\",\n",
    "#     \"conn_level_speed\",\n",
    "    \"level_speed\",\n",
    "    \"count_speed\"\n",
    "]\n",
    "\n",
    "for i in range(1, WINDOW_SIZE + 1):\n",
    "    for name in names:\n",
    "        cols_for_drop.append('_'.join([name, str(i)]))\n",
    "        \n",
    "df_quantum = df_quantum.drop(['bssid_level', 'timestamp', 'uuid'], axis = 1)\n",
    "df_quantum = df_quantum.drop(cols_for_drop, axis = 1)"
   ]
  },
  {
   "cell_type": "code",
   "execution_count": 30,
   "metadata": {},
   "outputs": [
    {
     "data": {
      "text/plain": [
       "Index(['freq', 'level', 'count', 'events_count', 'user',\n",
       "       'occured_nets_count_mean', 'occured_nets_count_median',\n",
       "       'occured_nets_count_var', 'disappeared_nets_count_mean',\n",
       "       'disappeared_nets_count_median', 'disappeared_nets_count_var',\n",
       "       'jaccard_index_mean', 'jaccard_index_median', 'jaccard_index_var',\n",
       "       'occur_speed_mean', 'occur_speed_median', 'occur_speed_var',\n",
       "       'level_speed_mean', 'level_speed_median', 'level_speed_var',\n",
       "       'count_speed_mean', 'count_speed_median', 'count_speed_var'],\n",
       "      dtype='object')"
      ]
     },
     "execution_count": 30,
     "metadata": {},
     "output_type": "execute_result"
    }
   ],
   "source": [
    "df_quantum.columns"
   ]
  },
  {
   "cell_type": "code",
   "execution_count": 31,
   "metadata": {},
   "outputs": [],
   "source": [
    "common_cols = [x for x in df_quantum.columns[0:5] if x != 'user' and x != 'events_count']\n",
    "speed_acc_cols = df_quantum.columns[5:]\n",
    "\n",
    "common_funcs_list = [mean, var, median, skew, kurt]\n",
    "special_funcs_list = [mean, pd.DataFrame.mad, skew]\n",
    "\n",
    "common_cols_map = { col : common_funcs_list for col in common_cols }\n",
    "speed_acc_cols_map = { col : special_funcs_list for col in speed_acc_cols }\n",
    "\n",
    "additional = { 'user' : user_agg, 'events_count' : 'sum' }\n",
    "\n",
    "agg_dict = common_cols_map\n",
    "agg_dict.update(speed_acc_cols_map)\n",
    "agg_dict.update(additional)"
   ]
  },
  {
   "cell_type": "code",
   "execution_count": 32,
   "metadata": {},
   "outputs": [],
   "source": [
    "df_quantum[speed_acc_cols] = df_quantum[speed_acc_cols].apply(pd.to_numeric)"
   ]
  },
  {
   "cell_type": "code",
   "execution_count": 33,
   "metadata": {},
   "outputs": [
    {
     "name": "stderr",
     "output_type": "stream",
     "text": [
      "D:\\Program Files\\Anaconda3\\lib\\site-packages\\numpy\\core\\fromnumeric.py:3118: RuntimeWarning: Mean of empty slice.\n",
      "  out=out, **kwargs)\n",
      "D:\\Program Files\\Anaconda3\\lib\\site-packages\\numpy\\core\\_methods.py:85: RuntimeWarning: invalid value encountered in double_scalars\n",
      "  ret = ret.dtype.type(ret / rcount)\n"
     ]
    }
   ],
   "source": [
    "df_sampling = df_quantum.groupby(pd.Grouper(freq = TIME_SAMPLE_FREQ)).agg(agg_dict)"
   ]
  },
  {
   "cell_type": "code",
   "execution_count": 34,
   "metadata": {},
   "outputs": [],
   "source": [
    "df_rolling = df_quantum.rolling(TIME_SAMPLE_FREQ, min_periods = 1, center = False).agg(agg_dict)"
   ]
  },
  {
   "cell_type": "code",
   "execution_count": 38,
   "metadata": {},
   "outputs": [],
   "source": [
    "df_sampling.columns = [\"_\".join([str(high_level_name), str(low_level_name)]) \\\n",
    "                       for (high_level_name, low_level_name) in df_sampling.columns.values]\n",
    "\n",
    "df_rolling.columns = [\"_\".join([str(high_level_name), str(low_level_name)]) \\\n",
    "                      for (high_level_name, low_level_name) in df_rolling.columns.values]"
   ]
  },
  {
   "cell_type": "code",
   "execution_count": null,
   "metadata": {},
   "outputs": [],
   "source": [
    "df_sampling = df_sampling.dropna()\n",
    "df_sampling = df_sampling.fillna(0)\n",
    "\n",
    "df_rolling = df_rolling.dropna()\n",
    "df_rolling = df_rolling.fillna(0)"
   ]
  },
  {
   "cell_type": "code",
   "execution_count": null,
   "metadata": {},
   "outputs": [],
   "source": [
    "df_sampling.to_csv(\".\\\\_datasets\\\\5s\\\\wifi_sampling_dataset_5.csv\")\n",
    "df_rolling.to_csv(\".\\\\_datasets\\\\5s\\\\wifi_rolling_dataset_5.csv\")"
   ]
  },
  {
   "cell_type": "code",
   "execution_count": null,
   "metadata": {},
   "outputs": [],
   "source": []
  }
 ],
 "metadata": {
  "kernelspec": {
   "display_name": "Python 3",
   "language": "python",
   "name": "python3"
  },
  "language_info": {
   "codemirror_mode": {
    "name": "ipython",
    "version": 3
   },
   "file_extension": ".py",
   "mimetype": "text/x-python",
   "name": "python",
   "nbconvert_exporter": "python",
   "pygments_lexer": "ipython3",
   "version": "3.7.3"
  }
 },
 "nbformat": 4,
 "nbformat_minor": 2
}
