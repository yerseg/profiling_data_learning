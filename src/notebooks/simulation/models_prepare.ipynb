{
 "cells": [
  {
   "cell_type": "code",
   "execution_count": 1,
   "metadata": {},
   "outputs": [],
   "source": [
    "from catboost import CatBoostClassifier\n",
    "import pandas as pd\n",
    "import numpy as np\n",
    "from sklearn.metrics import accuracy_score, precision_score, recall_score, plot_roc_curve, make_scorer, f1_score, roc_auc_score, det_curve\n",
    "from sklearn import preprocessing\n",
    "from scipy import stats\n",
    "from sklearn.tree import DecisionTreeClassifier\n",
    "from sklearn.linear_model import LogisticRegression\n",
    "from sklearn.ensemble import RandomForestClassifier\n",
    "from sklearn.svm import SVC\n",
    "from sklearn.model_selection import cross_validate, LeaveOneGroupOut, PredefinedSplit, GridSearchCV\n",
    "import matplotlib.pyplot as plt\n",
    "import os\n",
    "from sklearn import metrics\n",
    "\n",
    "%matplotlib inline"
   ]
  },
  {
   "cell_type": "code",
   "execution_count": 2,
   "metadata": {},
   "outputs": [],
   "source": [
    "def concat_dataframes(path, df_type):\n",
    "    dfs_list = []\n",
    "    dfs_rows_len_list = []\n",
    "    \n",
    "    for user in os.listdir(path):\n",
    "        for file in os.listdir(os.path.join(path, user)):\n",
    "            if file.find(df_type) != -1:\n",
    "                df = pd.read_csv(os.path.join(path, user, file))\n",
    "                \n",
    "                df = df.drop([\"timestamp\"], axis=1)\n",
    "#                 df = (df - df.min()) / (df.max() - df.min())\n",
    "                \n",
    "                df[\"user\"] = int(user.split('_')[1])\n",
    "                \n",
    "                dfs_list.append(df)\n",
    "    \n",
    "    return pd.concat(dfs_list, ignore_index=True)\n",
    "\n",
    "\n",
    "def drop_bad_rows(df, z = 3):\n",
    "    bad_rows = set()\n",
    "    for col in df.columns:\n",
    "        if col != \"user\":\n",
    "            for user in df.user.unique():\n",
    "                for x in list(df.loc[df.user == user, :][np.abs(stats.zscore(df.loc[df.user == user, col])) > z].index):\n",
    "                    bad_rows.add(x)\n",
    "\n",
    "            for x in list(df[col][np.abs(stats.zscore(df[col])) > z].index):\n",
    "                bad_rows.add(x)\n",
    "\n",
    "    df = df.drop(list(bad_rows), axis=0)\n",
    "\n",
    "    return df\n",
    "\n",
    "\n",
    "def drop_bad_cols(df, z = 3, allowed_proportion = 0.1):\n",
    "    bad_cols = set()\n",
    "    for col in df.columns:\n",
    "        if col != \"user\":\n",
    "            if df[df[col] != df[col].mean()].shape[0] < allowed_proportion * df.shape[0]:\n",
    "                bad_cols.add(col)\n",
    "\n",
    "            for user in df.user.unique():\n",
    "                if df.loc[df.user == user, :][df.loc[df.user == user, col] != df.loc[df.user == user, col].mean()].shape[0] < allowed_proportion * df.loc[df.user == user, :].shape[0]:\n",
    "                    bad_cols.add(col)\n",
    "\n",
    "                elif np.sum(np.abs(stats.zscore(df.loc[df.user == user, col])) < z) < (1 - allowed_proportion) * df.loc[df.user == user, col].shape[0]:\n",
    "                    bad_cols.add(col)\n",
    "\n",
    "    df = df.drop(bad_cols, axis=1)\n",
    "    return df, list(bad_cols)\n",
    "    \n",
    "    \n",
    "def extract_delayed_user(df, user_label):\n",
    "    df_user = df[df[\"user\"] == user_label]\n",
    "    df = df[df[\"user\"] != user_label]\n",
    "    return df_user, df\n",
    "\n",
    "\n",
    "def split_users_into_two_classes(df, valid_user_label):\n",
    "    df.loc[df[\"user\"] != valid_user_label, \"user\"] = 0\n",
    "    df.loc[df[\"user\"] == valid_user_label, \"user\"] = 1\n",
    "    return df  \n",
    "\n",
    "\n",
    "def get_cv_split(X, y, group_labels, valid_user_label):\n",
    "    predefined_split_array = np.zeros(group_labels.shape[0])\n",
    "    i = 0\n",
    "    test_array = [x for x in range(group_labels.shape[0])]\n",
    "    for test, _ in LeaveOneGroupOut().split(X, y, group_labels):\n",
    "        diff = np.setdiff1d(test_array, test)\n",
    "        if np.all(group_labels[diff[0] : diff[-1]] == valid_user_label) is np.bool_(True):\n",
    "            for sample in diff:\n",
    "                predefined_split_array[sample] = -1\n",
    "        else:\n",
    "            for sample in diff:\n",
    "                predefined_split_array[sample] = i\n",
    "            i += 1\n",
    "    return predefined_split_array\n",
    "\n",
    "\n",
    "def generate_train_dataset(df, user, ex_user, is_SVM = False):\n",
    "    df_ = df.copy()\n",
    "\n",
    "    df_for_test = []\n",
    "\n",
    "    df__ = df_[df_.labels == ex_user].copy()\n",
    "    df_for_test.append(df__)\n",
    "    df_ = df_.drop(df__.index, axis=0)\n",
    "\n",
    "    for user_ in df_.labels.unique():\n",
    "        if user_ != ex_user:\n",
    "            test_size = int((0.25 * df_[df_.labels == user_].shape[0]) - 1)\n",
    "            df__ = df_[df_.labels == user_].sample(test_size).copy()\n",
    "            df_for_test.append(df__)\n",
    "            df_ = df_.drop(df__.index, axis=0)\n",
    "\n",
    "    df_ = split_users_into_two_classes(df_.copy(), user)\n",
    "          \n",
    "    if is_SVM:    \n",
    "        df_.loc[df_.user == 0, 'user'] = -1\n",
    "\n",
    "    df_ = df_.drop(\"labels\", axis=1)\n",
    "\n",
    "    dataset = df_.to_numpy().copy()\n",
    "    np.random.shuffle(dataset)\n",
    "\n",
    "    X = dataset[:, :-1]\n",
    "    y = dataset[:, -1]\n",
    "    \n",
    "    return X, y, df_for_test\n",
    "\n",
    "\n",
    "def generate_test_dataset(df_list, user, ex_user, is_SVM = False):\n",
    "    test_df = pd.concat(df_list)\n",
    "\n",
    "    valid_user_in_test_count = test_df[test_df.labels == user].shape[0]\n",
    "    ex_user_in_test_count = test_df[test_df.labels == ex_user].shape[0]\n",
    "    others_in_test_count = [test_df[test_df.labels == x].shape[0]\n",
    "                            for x in test_df.labels.unique() if x != user and x != ex_user]\n",
    "\n",
    "    others_test_count = sum(others_in_test_count)\n",
    "    part_size = min(valid_user_in_test_count, ex_user_in_test_count)\n",
    "    if others_test_count <= min(valid_user_in_test_count, ex_user_in_test_count):\n",
    "        part_size = others_test_count    \n",
    "        \n",
    "    new_df_parts = []    \n",
    "\n",
    "    new_df_parts.append(test_df[test_df.labels == user].sample(part_size).copy())\n",
    "    new_df_parts.append(test_df[test_df.labels == ex_user].sample(part_size).copy())\n",
    "    new_df_parts.append(test_df[~test_df.labels.isin([user, ex_user])].sample(part_size).copy())\n",
    "    \n",
    "    test_df = pd.concat(new_df_parts)\n",
    "    \n",
    "    test_df.loc[test_df.labels == user, \"user\"] = 1\n",
    "    if is_SVM:\n",
    "        test_df.loc[test_df.labels != user, \"user\"] = -1\n",
    "    else:\n",
    "        test_df.loc[test_df.labels != user, \"user\"] = 0\n",
    "\n",
    "    print(\"True: \", test_df[test_df.user == 1].shape)\n",
    "    print(\"Shape: \", test_df.shape)\n",
    "    for x in test_df.labels.unique():\n",
    "        print(\"Count \", x, \": \", test_df[test_df.labels == x].shape)\n",
    "\n",
    "    test_df = test_df.drop(\"labels\", axis=1)\n",
    "\n",
    "    test_dataset = test_df.to_numpy().copy()\n",
    "    X_test = test_dataset[:, :-1].copy()\n",
    "    y_test = test_dataset[:, -1].copy()\n",
    "\n",
    "    return X_test, y_test\n",
    "\n",
    "\n",
    "def prepare_dataset(df, user, is_SVM=False):\n",
    "    df_ = split_users_into_two_classes(df.copy(), user)\n",
    "    \n",
    "    group_labels = df_.labels.to_numpy().copy()\n",
    "    df_ = df_.drop('labels', axis=1)\n",
    "    \n",
    "    if is_SVM:\n",
    "        df_.loc[df_.user == 0, 'user'] = -1\n",
    "    \n",
    "    dataset = df_.to_numpy().copy()\n",
    "    X = dataset[:, :-1]\n",
    "    y = dataset[:, -1]\n",
    "    \n",
    "    return X, y, group_labels\n",
    "\n",
    "\n",
    "def create_file_for_results(data_type):\n",
    "    res_folder = '.\\\\_results'\n",
    "    if os.path.exists(res_folder) is False:\n",
    "        os.makedirs(res_folder)\n",
    "    \n",
    "    file = os.path.join(res_folder, data_type + '_results.json')\n",
    "    if os.path.exists(file) is False:\n",
    "        with open(file, 'w') as f:\n",
    "            json.dump({'stub': None}, f)\n",
    "        \n",
    "    return file    \n",
    "\n",
    "\n",
    "def update_file_with_results(file_path, results_dict):\n",
    "    import collections.abc\n",
    "\n",
    "    def update(d, u):\n",
    "        for k, v in u.items():\n",
    "            if isinstance(v, collections.abc.Mapping):\n",
    "                d[k] = update(d.get(k, {}), v)\n",
    "            else:\n",
    "                d[k] = v\n",
    "        return d\n",
    "    \n",
    "    with open(file_path, 'r') as f:\n",
    "        res = json.load(f)\n",
    "    \n",
    "    res = update(res, results_dict)\n",
    "    \n",
    "    with open(file_path, 'w') as f:\n",
    "        json.dump(res, f, sort_keys=True, indent=2)\n",
    "        \n",
    "        \n",
    "def get_dict_with_results(json_path):\n",
    "    with open(json_path, 'r') as f:\n",
    "        res = json.load(f)\n",
    "    return res    \n",
    "\n",
    "\n",
    "def get_dataframe(path, data_type, window_type, window_size):\n",
    "    return concat_dataframes(os.path.join(path, window_type, window_size), data_type), create_file_for_results(data_type)\n",
    "\n",
    "\n",
    "def drop_corr_columns(df, corr_coef):\n",
    "    corr_matrix = df.corr().abs()\n",
    "    upper_tri = corr_matrix.where(np.triu(np.ones(corr_matrix.shape), k=1).astype(np.bool))\n",
    "    corr_cols = [column for column in upper_tri.columns if any(abs(upper_tri[column]) > corr_coef) and column != \"user\"]\n",
    "    return df.drop(corr_cols, axis=1), corr_cols"
   ]
  },
  {
   "cell_type": "code",
   "execution_count": 3,
   "metadata": {},
   "outputs": [],
   "source": [
    "INTRUDER = 3\n",
    "VALID_USER = 2"
   ]
  },
  {
   "cell_type": "code",
   "execution_count": 4,
   "metadata": {},
   "outputs": [],
   "source": [
    "df = concat_dataframes(\"..\\\\..\\\\scripts\\\\_features_all\\\\rolling\\\\60s\", 'wifi')"
   ]
  },
  {
   "cell_type": "code",
   "execution_count": 5,
   "metadata": {},
   "outputs": [],
   "source": [
    "min_ = df.min()\n",
    "max_ = df.max()"
   ]
  },
  {
   "cell_type": "code",
   "execution_count": 6,
   "metadata": {},
   "outputs": [],
   "source": [
    "features = df.columns.to_list()"
   ]
  },
  {
   "cell_type": "code",
   "execution_count": 7,
   "metadata": {},
   "outputs": [],
   "source": [
    "def process_train_df(df, features): \n",
    "    df = df.drop(df.columns.difference(features), axis=1)\n",
    "    df = df.dropna(how='all')\n",
    "    df = df.fillna(0)\n",
    "    \n",
    "    df['nulls'] = (df == 0).sum(axis=1)\n",
    "#     df = df[df['nulls'] < 20]\n",
    "    df = df.drop('nulls', axis=1)\n",
    "    \n",
    "    df = drop_bad_rows(df)\n",
    "    df, dropped_cols_1 = drop_bad_cols(df)\n",
    "    df, dropped_cols_2 = drop_corr_columns(df, 0.7)\n",
    "    \n",
    "    return df, dropped_cols_1 + dropped_cols_2"
   ]
  },
  {
   "cell_type": "code",
   "execution_count": 8,
   "metadata": {},
   "outputs": [
    {
     "name": "stderr",
     "output_type": "stream",
     "text": [
      "D:\\Program Files\\Anaconda3\\lib\\site-packages\\scipy\\stats\\stats.py:2500: RuntimeWarning: invalid value encountered in true_divide\n",
      "  return (a - mns) / sstd\n",
      "D:\\Program Files\\Anaconda3\\lib\\site-packages\\ipykernel_launcher.py:25: RuntimeWarning: invalid value encountered in greater\n"
     ]
    }
   ],
   "source": [
    "df, dropped_cols = process_train_df(df, features)"
   ]
  },
  {
   "cell_type": "code",
   "execution_count": 9,
   "metadata": {},
   "outputs": [],
   "source": [
    "train_df = df[df.user != INTRUDER]"
   ]
  },
  {
   "cell_type": "code",
   "execution_count": 10,
   "metadata": {},
   "outputs": [],
   "source": [
    "train_df = split_users_into_two_classes(train_df.copy(), VALID_USER)   \n",
    "\n",
    "valid_user_count = train_df[train_df.user == 1].shape[0]\n",
    "intruder_count = train_df[train_df.user == 0].shape[0]\n",
    "\n",
    "if valid_user_count < intruder_count:\n",
    "    train_df = train_df.drop(train_df[train_df.user == 0].sample(intruder_count - valid_user_count).index)\n",
    "else:\n",
    "    train_df = train_df.drop(train_df[train_df.user == 1].sample(valid_user_count - intruder_count).index)\n",
    "\n",
    "dataset = train_df.to_numpy().copy()\n",
    "np.random.shuffle(dataset)\n",
    "\n",
    "X = dataset[:, :-1]\n",
    "y = dataset[:, -1]"
   ]
  },
  {
   "cell_type": "code",
   "execution_count": 11,
   "metadata": {},
   "outputs": [],
   "source": [
    "model_params = {\n",
    "    'n_estimators': 100,\n",
    "    'criterion': 'gini',\n",
    "    'max_depth': None,\n",
    "    'min_samples_split': 2,\n",
    "    'min_samples_leaf': 1,\n",
    "    'max_features': 'auto',\n",
    "    'n_jobs': -1,\n",
    "    'class_weight': 'balanced'\n",
    "}\n",
    "\n",
    "model = RandomForestClassifier(**model_params)"
   ]
  },
  {
   "cell_type": "code",
   "execution_count": 12,
   "metadata": {},
   "outputs": [
    {
     "data": {
      "text/plain": [
       "RandomForestClassifier(class_weight='balanced', n_jobs=-1)"
      ]
     },
     "execution_count": 12,
     "metadata": {},
     "output_type": "execute_result"
    }
   ],
   "source": [
    "model.fit(X, y)"
   ]
  },
  {
   "cell_type": "code",
   "execution_count": 13,
   "metadata": {},
   "outputs": [],
   "source": [
    "test_df = pd.read_csv(\"..\\\\..\\\\scripts\\\\_feature_events\\\\15min\\\\rolling\\\\60s\\\\user_\" + str(VALID_USER) + \"\\\\wifi_0_0_\" + str(INTRUDER) + \".data.csv\")\n",
    "test_df = test_df.rename(columns={'user_user_agg': 'user', 'events_count_sum': 'events'})"
   ]
  },
  {
   "cell_type": "code",
   "execution_count": 14,
   "metadata": {},
   "outputs": [],
   "source": [
    "test_df = test_df.drop(dropped_cols + ['timestamp', 'events'], axis=1)\n",
    "# test_df = (test_df - test_df.min()) / (test_df.max() - test_df.min())\n",
    "test_df = test_df.fillna(0)\n",
    "\n",
    "test_dataset = test_df.to_numpy().copy()\n",
    "\n",
    "X_test = test_dataset[:, :-1]\n",
    "y_test = test_dataset[:, -1]"
   ]
  },
  {
   "cell_type": "code",
   "execution_count": 15,
   "metadata": {},
   "outputs": [],
   "source": [
    "predict = model.predict(X_test)\n",
    "proba = model.predict_proba(X_test)"
   ]
  },
  {
   "cell_type": "code",
   "execution_count": 16,
   "metadata": {},
   "outputs": [
    {
     "data": {
      "text/plain": [
       "0.9529411764705882"
      ]
     },
     "execution_count": 16,
     "metadata": {},
     "output_type": "execute_result"
    }
   ],
   "source": [
    "accuracy_score(y_test, predict)"
   ]
  },
  {
   "cell_type": "code",
   "execution_count": 17,
   "metadata": {},
   "outputs": [
    {
     "data": {
      "text/plain": [
       "array([1., 1., 1., 1., 1., 1., 1., 1., 1., 1., 1., 1., 1., 1., 1., 1., 1.,\n",
       "       1., 1., 1., 1., 1., 1., 1., 1., 1., 1., 1., 1., 1., 1., 1., 1., 1.,\n",
       "       1., 1., 1., 1., 1., 1., 1., 1., 1., 1., 1., 1., 1., 1., 1., 1., 1.,\n",
       "       1., 1., 1., 1., 1., 1., 1., 1., 1., 1., 1., 1., 1., 1., 1., 1., 1.,\n",
       "       1., 1., 1., 0., 0., 0., 0., 0., 0., 0., 0., 0., 0., 0., 0., 0., 0.])"
      ]
     },
     "execution_count": 17,
     "metadata": {},
     "output_type": "execute_result"
    }
   ],
   "source": [
    "y_test"
   ]
  },
  {
   "cell_type": "code",
   "execution_count": 18,
   "metadata": {},
   "outputs": [
    {
     "data": {
      "text/plain": [
       "array([1., 1., 1., 1., 1., 1., 1., 1., 1., 1., 1., 1., 1., 1., 1., 1., 1.,\n",
       "       1., 1., 1., 1., 1., 1., 1., 1., 1., 1., 1., 1., 1., 1., 1., 1., 1.,\n",
       "       1., 1., 1., 1., 1., 1., 1., 1., 1., 1., 1., 1., 1., 1., 1., 1., 1.,\n",
       "       1., 1., 1., 1., 1., 1., 1., 1., 1., 1., 1., 1., 1., 1., 1., 1., 0.,\n",
       "       0., 0., 1., 1., 0., 0., 0., 0., 0., 0., 0., 0., 0., 0., 0., 0., 0.])"
      ]
     },
     "execution_count": 18,
     "metadata": {},
     "output_type": "execute_result"
    }
   ],
   "source": [
    "predict"
   ]
  },
  {
   "cell_type": "code",
   "execution_count": 19,
   "metadata": {},
   "outputs": [],
   "source": [
    "def confusion_matrix_thr(y_true, proba, threshold=0.5):\n",
    "    predict = proba\n",
    "    predict[predict > threshold] = 1\n",
    "    predict[predict <= threshold] = 0\n",
    "    \n",
    "    return metrics.confusion_matrix(y_true, predict)"
   ]
  },
  {
   "cell_type": "code",
   "execution_count": 52,
   "metadata": {},
   "outputs": [],
   "source": [
    "FPR = []\n",
    "FNR = []\n",
    "thresholds = np.arange(0.0, 1.0, 0.01)"
   ]
  },
  {
   "cell_type": "code",
   "execution_count": 53,
   "metadata": {},
   "outputs": [],
   "source": [
    "for thr in thresholds:\n",
    "    tn, fp, fn, tp = confusion_matrix_thr(y_test, proba[:, 1].copy(), thr).ravel()\n",
    "    FPR.append(fp / (fp + tn))\n",
    "    FNR.append(fn / (fn + tp))"
   ]
  },
  {
   "cell_type": "code",
   "execution_count": 54,
   "metadata": {},
   "outputs": [
    {
     "name": "stderr",
     "output_type": "stream",
     "text": [
      "No handles with labels found to put in legend.\n"
     ]
    },
    {
     "data": {
      "image/png": "[encoded data removed]",
      "text/plain": [
       "<Figure size 432x288 with 1 Axes>"
      ]
     },
     "metadata": {
      "needs_background": "light"
     },
     "output_type": "display_data"
    }
   ],
   "source": [
    "import matplotlib.pyplot as plt\n",
    "plt.title('Error rates')\n",
    "plt.plot(thresholds, FPR, 'b')\n",
    "plt.plot(thresholds, FNR, 'g')\n",
    "plt.legend(loc = 'lower right')\n",
    "plt.ylabel('Error rate')\n",
    "plt.xlabel('Threshold')\n",
    "plt.show()"
   ]
  },
  {
   "cell_type": "code",
   "execution_count": 23,
   "metadata": {},
   "outputs": [
    {
     "name": "stderr",
     "output_type": "stream",
     "text": [
      "No handles with labels found to put in legend.\n"
     ]
    },
    {
     "data": {
      "image/png": "[encoded data removed]",
      "text/plain": [
       "<Figure size 432x288 with 1 Axes>"
      ]
     },
     "metadata": {
      "needs_background": "light"
     },
     "output_type": "display_data"
    }
   ],
   "source": [
    "# method I: plt\n",
    "import matplotlib.pyplot as plt\n",
    "plt.title('DET')\n",
    "plt.plot(FPR, FNR, 'b')\n",
    "plt.legend(loc = 'lower right')\n",
    "plt.plot([0, 1], [0, 1],'r--')\n",
    "plt.xlim([0, 1])\n",
    "plt.ylim([0, 1])\n",
    "plt.ylabel('false rejection rate')\n",
    "plt.xlabel('false acceptance rate')\n",
    "plt.show()"
   ]
  },
  {
   "cell_type": "code",
   "execution_count": 24,
   "metadata": {},
   "outputs": [
    {
     "data": {
      "text/plain": [
       "<sklearn.metrics._plot.roc_curve.RocCurveDisplay at 0x1944236d390>"
      ]
     },
     "execution_count": 24,
     "metadata": {},
     "output_type": "execute_result"
    },
    {
     "data": {
      "image/png": "[encoded data removed]",
      "text/plain": [
       "<Figure size 432x288 with 1 Axes>"
      ]
     },
     "metadata": {
      "needs_background": "light"
     },
     "output_type": "display_data"
    }
   ],
   "source": [
    "plot_roc_curve(model, X_test, y_test)"
   ]
  },
  {
   "cell_type": "code",
   "execution_count": null,
   "metadata": {},
   "outputs": [],
   "source": []
  },
  {
   "cell_type": "code",
   "execution_count": null,
   "metadata": {},
   "outputs": [],
   "source": []
  },
  {
   "cell_type": "code",
   "execution_count": null,
   "metadata": {},
   "outputs": [],
   "source": []
  }
 ],
 "metadata": {
  "kernelspec": {
   "display_name": "Python 3",
   "language": "python",
   "name": "python3"
  },
  "language_info": {
   "codemirror_mode": {
    "name": "ipython",
    "version": 3
   },
   "file_extension": ".py",
   "mimetype": "text/x-python",
   "name": "python",
   "nbconvert_exporter": "python",
   "pygments_lexer": "ipython3",
   "version": "3.7.3"
  }
 },
 "nbformat": 4,
 "nbformat_minor": 2
}
