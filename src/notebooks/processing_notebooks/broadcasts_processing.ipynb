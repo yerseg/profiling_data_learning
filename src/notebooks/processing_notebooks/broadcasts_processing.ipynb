{
 "cells": [
  {
   "cell_type": "code",
   "execution_count": 1,
   "metadata": {},
   "outputs": [],
   "source": [
    "import pandas as pd\n",
    "import numpy as np\n",
    "import re\n",
    "from datetime import datetime as dt\n",
    "from scipy.spatial import distance\n",
    "import scipy.stats as stats\n",
    "\n",
    "%matplotlib inline"
   ]
  },
  {
   "cell_type": "code",
   "execution_count": 2,
   "metadata": {},
   "outputs": [],
   "source": [
    "TIME_SAMPLE_FREQ = '5s'"
   ]
  },
  {
   "cell_type": "code",
   "execution_count": 3,
   "metadata": {},
   "outputs": [],
   "source": [
    "df = pd.read_csv(\".\\\\pipelines\\\\gen\\\\broadcasts_filtered_1.data\", sep = ';', index_col = False, header = None, low_memory = False, \\\n",
    "                 names = ['timestamp', 'action', 'data', 'package', 'scheme', 'type'])"
   ]
  },
  {
   "cell_type": "code",
   "execution_count": 4,
   "metadata": {
    "scrolled": false
   },
   "outputs": [
    {
     "data": {
      "text/html": [
       "<div>\n",
       "<style scoped>\n",
       "    .dataframe tbody tr th:only-of-type {\n",
       "        vertical-align: middle;\n",
       "    }\n",
       "\n",
       "    .dataframe tbody tr th {\n",
       "        vertical-align: top;\n",
       "    }\n",
       "\n",
       "    .dataframe thead th {\n",
       "        text-align: right;\n",
       "    }\n",
       "</style>\n",
       "<table border=\"1\" class=\"dataframe\">\n",
       "  <thead>\n",
       "    <tr style=\"text-align: right;\">\n",
       "      <th></th>\n",
       "      <th>timestamp</th>\n",
       "      <th>action</th>\n",
       "      <th>data</th>\n",
       "      <th>package</th>\n",
       "      <th>scheme</th>\n",
       "      <th>type</th>\n",
       "    </tr>\n",
       "  </thead>\n",
       "  <tbody>\n",
       "    <tr>\n",
       "      <th>0</th>\n",
       "      <td>2021-03-08 15:15:01.225</td>\n",
       "      <td>android.intent.action.BATTERY_CHANGED</td>\n",
       "      <td>NaN</td>\n",
       "      <td>NaN</td>\n",
       "      <td>NaN</td>\n",
       "      <td>NaN</td>\n",
       "    </tr>\n",
       "    <tr>\n",
       "      <th>1</th>\n",
       "      <td>2021-03-08 15:15:01.227</td>\n",
       "      <td>android.intent.action.SERVICE_STATE</td>\n",
       "      <td>NaN</td>\n",
       "      <td>NaN</td>\n",
       "      <td>NaN</td>\n",
       "      <td>NaN</td>\n",
       "    </tr>\n",
       "    <tr>\n",
       "      <th>2</th>\n",
       "      <td>2021-03-08 15:15:01.229</td>\n",
       "      <td>android.net.conn.TETHER_STATE_CHANGED</td>\n",
       "      <td>NaN</td>\n",
       "      <td>NaN</td>\n",
       "      <td>NaN</td>\n",
       "      <td>NaN</td>\n",
       "    </tr>\n",
       "    <tr>\n",
       "      <th>3</th>\n",
       "      <td>2021-03-08 15:15:01.229</td>\n",
       "      <td>android.net.wifi.WIFI_STATE_CHANGED</td>\n",
       "      <td>NaN</td>\n",
       "      <td>NaN</td>\n",
       "      <td>NaN</td>\n",
       "      <td>NaN</td>\n",
       "    </tr>\n",
       "    <tr>\n",
       "      <th>4</th>\n",
       "      <td>2021-03-08 15:15:01.229</td>\n",
       "      <td>android.net.wifi.STATE_CHANGE</td>\n",
       "      <td>NaN</td>\n",
       "      <td>NaN</td>\n",
       "      <td>NaN</td>\n",
       "      <td>NaN</td>\n",
       "    </tr>\n",
       "  </tbody>\n",
       "</table>\n",
       "</div>"
      ],
      "text/plain": [
       "                 timestamp                                 action data  \\\n",
       "0  2021-03-08 15:15:01.225  android.intent.action.BATTERY_CHANGED  NaN   \n",
       "1  2021-03-08 15:15:01.227    android.intent.action.SERVICE_STATE  NaN   \n",
       "2  2021-03-08 15:15:01.229  android.net.conn.TETHER_STATE_CHANGED  NaN   \n",
       "3  2021-03-08 15:15:01.229    android.net.wifi.WIFI_STATE_CHANGED  NaN   \n",
       "4  2021-03-08 15:15:01.229          android.net.wifi.STATE_CHANGE  NaN   \n",
       "\n",
       "  package scheme  type  \n",
       "0     NaN    NaN   NaN  \n",
       "1     NaN    NaN   NaN  \n",
       "2     NaN    NaN   NaN  \n",
       "3     NaN    NaN   NaN  \n",
       "4     NaN    NaN   NaN  "
      ]
     },
     "execution_count": 4,
     "metadata": {},
     "output_type": "execute_result"
    }
   ],
   "source": [
    "df.head()"
   ]
  },
  {
   "cell_type": "code",
   "execution_count": 5,
   "metadata": {},
   "outputs": [
    {
     "name": "stdout",
     "output_type": "stream",
     "text": [
      "<class 'pandas.core.frame.DataFrame'>\n",
      "RangeIndex: 53792 entries, 0 to 53791\n",
      "Data columns (total 6 columns):\n",
      "timestamp    53792 non-null object\n",
      "action       53792 non-null object\n",
      "data         193 non-null object\n",
      "package      24992 non-null object\n",
      "scheme       193 non-null object\n",
      "type         0 non-null float64\n",
      "dtypes: float64(1), object(5)\n",
      "memory usage: 2.5+ MB\n"
     ]
    }
   ],
   "source": [
    "df.info()"
   ]
  },
  {
   "cell_type": "code",
   "execution_count": 6,
   "metadata": {
    "pycharm": {
     "name": "#%%\n"
    }
   },
   "outputs": [],
   "source": [
    "drop_actions = [\n",
    "  'android.net.wifi.SCAN_RESULTS',\n",
    "  'android.bluetooth.device.action.FOUND',\n",
    "  'android.bluetooth.adapter.action.DISCOVERY_STARTED',\n",
    "  'android.bluetooth.adapter.action.DISCOVERY_FINISHED'\n",
    "]\n",
    "\n",
    "df = df[~df['action'].str.contains('|'.join(drop_actions))]\n",
    "df = df.drop(['data', 'package', 'scheme', 'type'], axis = 1)"
   ]
  },
  {
   "cell_type": "code",
   "execution_count": 7,
   "metadata": {},
   "outputs": [],
   "source": [
    "df.index = pd.DatetimeIndex(df.timestamp)\n",
    "df = df.sort_index()"
   ]
  },
  {
   "cell_type": "code",
   "execution_count": 8,
   "metadata": {},
   "outputs": [],
   "source": [
    "df = df.drop(['timestamp'], axis = 1)"
   ]
  },
  {
   "cell_type": "code",
   "execution_count": 9,
   "metadata": {},
   "outputs": [],
   "source": [
    "df.to_csv(\".\\\\_datasets\\\\broadcasts_dataset_1.csv\")"
   ]
  },
  {
   "cell_type": "code",
   "execution_count": null,
   "metadata": {},
   "outputs": [],
   "source": []
  },
  {
   "cell_type": "code",
   "execution_count": null,
   "metadata": {},
   "outputs": [],
   "source": []
  }
 ],
 "metadata": {
  "kernelspec": {
   "display_name": "Python 3",
   "language": "python",
   "name": "python3"
  },
  "language_info": {
   "codemirror_mode": {
    "name": "ipython",
    "version": 3
   },
   "file_extension": ".py",
   "mimetype": "text/x-python",
   "name": "python",
   "nbconvert_exporter": "python",
   "pygments_lexer": "ipython3",
   "version": "3.7.3"
  }
 },
 "nbformat": 4,
 "nbformat_minor": 2
}
