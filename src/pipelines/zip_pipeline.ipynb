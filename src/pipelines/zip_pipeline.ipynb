{
 "cells": [
  {
   "cell_type": "code",
   "execution_count": 1,
   "metadata": {},
   "outputs": [],
   "source": [
    "import os\n",
    "import zipfile"
   ]
  },
  {
   "cell_type": "code",
   "execution_count": 2,
   "metadata": {},
   "outputs": [],
   "source": [
    "tmp_dir_name = \"tmp\"\n",
    "\n",
    "if os.path.exists(os.path.join(os.getcwd(), tmp_dir_name)) is False:\n",
    "    os.mkdir(os.path.join(os.getcwd(), tmp_dir_name))\n",
    "    \n",
    "tmp_dir_path = os.path.join(os.getcwd(), tmp_dir_name)"
   ]
  },
  {
   "cell_type": "code",
   "execution_count": 3,
   "metadata": {},
   "outputs": [],
   "source": [
    "def unpack_zip_archives(path):\n",
    "    with zipfile.ZipFile(path, 'r') as zip_:\n",
    "        zip_.extractall(tmp_dir_path)"
   ]
  },
  {
   "cell_type": "code",
   "execution_count": 4,
   "metadata": {},
   "outputs": [],
   "source": [
    "def generate_name(filename, i):\n",
    "    name_parts = filename.split('.')\n",
    "    category = name_parts[0]\n",
    "    name_parts[0] += '_' + str(i)\n",
    "    return (category, \".\".join(name_parts))"
   ]
  },
  {
   "cell_type": "code",
   "execution_count": 5,
   "metadata": {},
   "outputs": [],
   "source": [
    "def process_zips(path):\n",
    "    path = os.path.join(os.getcwd(), path)\n",
    "    for zip_file, i in zip(os.listdir(path), range(len(os.listdir(path)))):\n",
    "        unpack_zip_archives(os.path.join(path, zip_file))\n",
    "        for filename in os.listdir(tmp_dir_path):\n",
    "            (category, file) = generate_name(filename, i)\n",
    "            if os.path.exists(os.path.join(os.getcwd(), path, category)) is False:\n",
    "                os.mkdir(os.path.join(os.getcwd(), path, category))\n",
    "            os.rename(os.path.join(tmp_dir_path, filename), os.path.join(os.getcwd(), path, category, file))"
   ]
  },
  {
   "cell_type": "code",
   "execution_count": 6,
   "metadata": {},
   "outputs": [],
   "source": [
    "def process_user_data(user_data_path_list):\n",
    "    for path in user_data_path_list:\n",
    "        process_zips(path)"
   ]
  },
  {
   "cell_type": "code",
   "execution_count": 7,
   "metadata": {},
   "outputs": [],
   "source": [
    "def merge_files_in_folder(folder_path, bins = 1):\n",
    "    try:\n",
    "        log = ''\n",
    "        out_file_name = \".\".join([os.path.basename(folder_path), 'data'])\n",
    "        with open(os.path.join(folder_path, out_file_name), 'w+', encoding='utf-8') as out_file:\n",
    "            for file, i in zip(os.listdir(folder_path), range(len(os.listdir(folder_path)))): \n",
    "                if file != out_file_name:\n",
    "                    with open(os.path.join(folder_path, file), 'r', encoding='utf-8') as f:\n",
    "                        out_file.writelines(f.readlines())\n",
    "                    log += '...' + file\n",
    "    except Exception as ex:\n",
    "        print(ex)\n",
    "    finally:\n",
    "        print(log)\n",
    "                "
   ]
  },
  {
   "cell_type": "code",
   "execution_count": 9,
   "metadata": {},
   "outputs": [],
   "source": [
    "process_user_data(['data'])"
   ]
  },
  {
   "cell_type": "code",
   "execution_count": 12,
   "metadata": {},
   "outputs": [
    {
     "name": "stdout",
     "output_type": "stream",
     "text": [
      "...location_0.data...location_1.data...location_10.data...location_11.data...location_12.data...location_13.data...location_14.data...location_15.data...location_16.data...location_17.data...location_18.data...location_19.data...location_2.data...location_20.data...location_21.data...location_22.data...location_23.data...location_24.data...location_25.data...location_26.data...location_27.data...location_28.data...location_29.data...location_3.data...location_30.data...location_31.data...location_32.data...location_33.data...location_34.data...location_35.data...location_36.data...location_37.data...location_38.data...location_39.data...location_4.data...location_40.data...location_41.data...location_5.data...location_6.data...location_7.data...location_8.data...location_9.data\n"
     ]
    }
   ],
   "source": [
    "merge_files_in_folder(\".\\\\user_8\\\\location\")"
   ]
  },
  {
   "cell_type": "code",
   "execution_count": null,
   "metadata": {},
   "outputs": [],
   "source": []
  }
 ],
 "metadata": {
  "kernelspec": {
   "display_name": "Python 3",
   "language": "python",
   "name": "python3"
  },
  "language_info": {
   "codemirror_mode": {
    "name": "ipython",
    "version": 3
   },
   "file_extension": ".py",
   "mimetype": "text/x-python",
   "name": "python",
   "nbconvert_exporter": "python",
   "pygments_lexer": "ipython3",
   "version": "3.7.3"
  }
 },
 "nbformat": 4,
 "nbformat_minor": 2
}
