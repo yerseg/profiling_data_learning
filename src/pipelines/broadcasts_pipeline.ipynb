{
 "cells": [
  {
   "cell_type": "code",
   "execution_count": null,
   "outputs": [],
   "source": [
    "import pandas as pd\n",
    "import numpy as np\n",
    "import re\n",
    "import os\n",
    "from datetime import datetime as dt\n",
    "from scipy.spatial import distance\n",
    "import scipy.stats as stats\n",
    "from geopy.distance import distance as geodist\n",
    "\n",
    "%matplotlib inline"
   ],
   "metadata": {
    "collapsed": false,
    "pycharm": {
     "name": "#%%\n"
    }
   }
  },
  {
   "cell_type": "code",
   "execution_count": null,
   "outputs": [],
   "source": [
    "def broadcasts_file_process(filepath):\n",
    "\n",
    "    new_files_dir = \"_generated\"\n",
    "\n",
    "    with open(filepath, encoding='utf-8') as f:\n",
    "        lines = f.readlines()\n",
    "\n",
    "    if os.path.exists(os.path.join(os.getcwd(), new_files_dir)) is False:\n",
    "        os.mkdir(os.path.join(os.getcwd(), new_files_dir))\n",
    "\n",
    "    new_file_path = os.path.join(os.getcwd(), new_files_dir, os.path.basename(filepath))\n",
    "\n",
    "    with open(new_file_path, 'w+', encoding='utf-8') as f:\n",
    "        for line, i in zip(lines, range(len(lines))):\n",
    "            f.write(line)\n",
    "\n",
    "    return {'BASE': new_file_path}"
   ],
   "metadata": {
    "collapsed": false,
    "pycharm": {
     "name": "#%%\n"
    }
   }
  },
  {
   "cell_type": "code",
   "execution_count": null,
   "outputs": [],
   "source": [
    "def broadcasts_make_dataframes(file_path, sampling_freq, rolling = False, sampling = True):\n",
    "    pass"
   ],
   "metadata": {
    "collapsed": false,
    "pycharm": {
     "name": "#%%\n"
    }
   }
  },
  {
   "cell_type": "code",
   "execution_count": null,
   "outputs": [],
   "source": [
    "def broadcasts(files, sampling_freq):\n",
    "    logs = []\n",
    "    for file in files:\n",
    "        logs.append(broadcasts_file_process(file))\n",
    "    for t in logs:\n",
    "        print(t['BASE'], sampling_freq)\n",
    "        broadcasts_make_dataframes(t['BASE'], sampling_freq, True, True)"
   ],
   "metadata": {
    "collapsed": false,
    "pycharm": {
     "name": "#%%\n"
    }
   }
  },
  {
   "cell_type": "code",
   "execution_count": null,
   "outputs": [],
   "source": [
    "SAMPLING_FREQs = ['5s', '10s', '30s', '60s', '90s', '120s', '240s', '600s']\n",
    "data_list = [\n",
    "#     \".\\\\raw_data\\\\broadcasts_1.data\",\n",
    "#     \".\\\\raw_data\\\\broadcasts_2.data\",\n",
    "#     \".\\\\raw_data\\\\broadcasts_3.data\",\n",
    "#     \".\\\\raw_data\\\\broadcasts_4.data\",\n",
    "#     \".\\\\raw_data\\\\broadcasts_5.data\",\n",
    "#     \".\\\\raw_data\\\\broadcasts_6.data\",\n",
    "#     \".\\\\raw_data\\\\broadcasts_7.data\",\n",
    "    \".\\\\raw_data\\\\broadcasts_8.data\",\n",
    "]"
   ],
   "metadata": {
    "collapsed": false,
    "pycharm": {
     "name": "#%%\n"
    }
   }
  },
  {
   "cell_type": "code",
   "execution_count": null,
   "outputs": [],
   "source": [
    "for freq in SAMPLING_FREQs:\n",
    "    broadcasts_pipeline(data_list, freq)"
   ],
   "metadata": {
    "collapsed": false,
    "pycharm": {
     "name": "#%%\n"
    }
   }
  },
  {
   "cell_type": "code",
   "execution_count": null,
   "outputs": [],
   "source": [
    "# location_pipeline([\".\\\\user_1\\\\wifi\\\\wifi_0.data\"], SAMPLING_FREQ)"
   ],
   "metadata": {
    "collapsed": false,
    "pycharm": {
     "name": "#%%\n"
    }
   }
  },
  {
   "cell_type": "code",
   "execution_count": null,
   "outputs": [],
   "source": [
    "# location_file_process(\".\\\\location_2.data\")"
   ],
   "metadata": {
    "collapsed": false,
    "pycharm": {
     "name": "#%%\n"
    }
   }
  },
  {
   "cell_type": "code",
   "execution_count": null,
   "outputs": [],
   "source": [],
   "metadata": {
    "collapsed": false,
    "pycharm": {
     "name": "#%%\n"
    }
   }
  },
  {
   "cell_type": "code",
   "execution_count": null,
   "outputs": [],
   "source": [],
   "metadata": {
    "collapsed": false,
    "pycharm": {
     "name": "#%%\n"
    }
   }
  }
 ],
 "metadata": {
  "kernelspec": {
   "display_name": "Python 3",
   "language": "python",
   "name": "python3"
  },
  "language_info": {
   "codemirror_mode": {
    "name": "ipython",
    "version": 3
   },
   "file_extension": ".py",
   "mimetype": "text/x-python",
   "name": "python",
   "nbconvert_exporter": "python",
   "pygments_lexer": "ipython3",
   "version": "3.7.3"
  }
 },
 "nbformat": 4,
 "nbformat_minor": 2
}