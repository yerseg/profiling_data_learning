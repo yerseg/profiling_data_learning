{
 "cells": [
  {
   "cell_type": "code",
   "execution_count": 1,
   "metadata": {},
   "outputs": [],
   "source": [
    "import pandas as pd\n",
    "import numpy as np\n",
    "import re\n",
    "from datetime import datetime as dt\n",
    "from scipy.spatial import distance\n",
    "import scipy.stats as stats\n",
    "\n",
    "%matplotlib inline"
   ]
  },
  {
   "cell_type": "code",
   "execution_count": 2,
   "metadata": {},
   "outputs": [],
   "source": [
    "TIME_SAMPLE_FREQ = '30s'"
   ]
  },
  {
   "cell_type": "code",
   "execution_count": 3,
   "metadata": {},
   "outputs": [],
   "source": [
    "df = pd.read_csv(\".\\\\_generated\\\\wifi_1.data\", index_col = False, header = None, low_memory = False, \\\n",
    "                 names = ['timestamp', 'uuid', 'bssid', 'ssid', 'capabilities', \\\n",
    "                          'freq0', 'freq1', 'chwidth', 'freq', 'level', 'operator', \\\n",
    "                          'time', 'venue', '802', 'passpoint'])"
   ]
  },
  {
   "cell_type": "code",
   "execution_count": 4,
   "metadata": {
    "scrolled": false
   },
   "outputs": [
    {
     "data": {
      "text/html": [
       "<div>\n",
       "<style scoped>\n",
       "    .dataframe tbody tr th:only-of-type {\n",
       "        vertical-align: middle;\n",
       "    }\n",
       "\n",
       "    .dataframe tbody tr th {\n",
       "        vertical-align: top;\n",
       "    }\n",
       "\n",
       "    .dataframe thead th {\n",
       "        text-align: right;\n",
       "    }\n",
       "</style>\n",
       "<table border=\"1\" class=\"dataframe\">\n",
       "  <thead>\n",
       "    <tr style=\"text-align: right;\">\n",
       "      <th></th>\n",
       "      <th>timestamp</th>\n",
       "      <th>uuid</th>\n",
       "      <th>bssid</th>\n",
       "      <th>ssid</th>\n",
       "      <th>capabilities</th>\n",
       "      <th>freq0</th>\n",
       "      <th>freq1</th>\n",
       "      <th>chwidth</th>\n",
       "      <th>freq</th>\n",
       "      <th>level</th>\n",
       "      <th>operator</th>\n",
       "      <th>time</th>\n",
       "      <th>venue</th>\n",
       "      <th>802</th>\n",
       "      <th>passpoint</th>\n",
       "    </tr>\n",
       "  </thead>\n",
       "  <tbody>\n",
       "    <tr>\n",
       "      <th>0</th>\n",
       "      <td>06.12.2020_18:08:47.262</td>\n",
       "      <td>00bf7e9c-735f-44f4-a819-e09975ca9bcb</td>\n",
       "      <td>34:ce:00:4d:64:1d</td>\n",
       "      <td>Hello_ World!</td>\n",
       "      <td>[WPA-PSK-TKIP+CCMP][WPA2-PSK-TKIP+CCMP][RSN-PS...</td>\n",
       "      <td>0</td>\n",
       "      <td>0.0</td>\n",
       "      <td>0.0</td>\n",
       "      <td>2422.0</td>\n",
       "      <td>-26.0</td>\n",
       "      <td>NaN</td>\n",
       "      <td>1.094820e+12</td>\n",
       "      <td>NaN</td>\n",
       "      <td>False</td>\n",
       "      <td>False</td>\n",
       "    </tr>\n",
       "    <tr>\n",
       "      <th>1</th>\n",
       "      <td>06.12.2020_18:08:47.262</td>\n",
       "      <td>00bf7e9c-735f-44f4-a819-e09975ca9bcb</td>\n",
       "      <td>34:ce:00:4d:64:1e</td>\n",
       "      <td>Hello_ World!_5G</td>\n",
       "      <td>[WPA-PSK-TKIP+CCMP][WPA2-PSK-TKIP+CCMP][RSN-PS...</td>\n",
       "      <td>5775</td>\n",
       "      <td>0.0</td>\n",
       "      <td>2.0</td>\n",
       "      <td>5805.0</td>\n",
       "      <td>-32.0</td>\n",
       "      <td>NaN</td>\n",
       "      <td>1.094823e+12</td>\n",
       "      <td>NaN</td>\n",
       "      <td>False</td>\n",
       "      <td>False</td>\n",
       "    </tr>\n",
       "    <tr>\n",
       "      <th>2</th>\n",
       "      <td>06.12.2020_18:08:47.262</td>\n",
       "      <td>00bf7e9c-735f-44f4-a819-e09975ca9bcb</td>\n",
       "      <td>40:b4:f0:28:29:c1</td>\n",
       "      <td>Moscow_WiFi_Free</td>\n",
       "      <td>[ESS][WFA-HT]</td>\n",
       "      <td>5230</td>\n",
       "      <td>0.0</td>\n",
       "      <td>1.0</td>\n",
       "      <td>5220.0</td>\n",
       "      <td>-37.0</td>\n",
       "      <td>NaN</td>\n",
       "      <td>1.094820e+12</td>\n",
       "      <td>NaN</td>\n",
       "      <td>False</td>\n",
       "      <td>False</td>\n",
       "    </tr>\n",
       "    <tr>\n",
       "      <th>3</th>\n",
       "      <td>06.12.2020_18:08:47.262</td>\n",
       "      <td>00bf7e9c-735f-44f4-a819-e09975ca9bcb</td>\n",
       "      <td>40:b4:f0:28:29:c3</td>\n",
       "      <td>Beeline_Free</td>\n",
       "      <td>[ESS][WFA-HT]</td>\n",
       "      <td>5230</td>\n",
       "      <td>0.0</td>\n",
       "      <td>1.0</td>\n",
       "      <td>5220.0</td>\n",
       "      <td>-37.0</td>\n",
       "      <td>NaN</td>\n",
       "      <td>1.094820e+12</td>\n",
       "      <td>NaN</td>\n",
       "      <td>False</td>\n",
       "      <td>False</td>\n",
       "    </tr>\n",
       "    <tr>\n",
       "      <th>4</th>\n",
       "      <td>06.12.2020_18:08:47.262</td>\n",
       "      <td>00bf7e9c-735f-44f4-a819-e09975ca9bcb</td>\n",
       "      <td>40:b4:f0:28:29:c0</td>\n",
       "      <td>Moscow_WiFi_Free</td>\n",
       "      <td>[ESS][WFA-HT]</td>\n",
       "      <td>0</td>\n",
       "      <td>0.0</td>\n",
       "      <td>0.0</td>\n",
       "      <td>2462.0</td>\n",
       "      <td>-37.0</td>\n",
       "      <td>NaN</td>\n",
       "      <td>1.094822e+12</td>\n",
       "      <td>NaN</td>\n",
       "      <td>False</td>\n",
       "      <td>False</td>\n",
       "    </tr>\n",
       "  </tbody>\n",
       "</table>\n",
       "</div>"
      ],
      "text/plain": [
       "                 timestamp                                  uuid  \\\n",
       "0  06.12.2020_18:08:47.262  00bf7e9c-735f-44f4-a819-e09975ca9bcb   \n",
       "1  06.12.2020_18:08:47.262  00bf7e9c-735f-44f4-a819-e09975ca9bcb   \n",
       "2  06.12.2020_18:08:47.262  00bf7e9c-735f-44f4-a819-e09975ca9bcb   \n",
       "3  06.12.2020_18:08:47.262  00bf7e9c-735f-44f4-a819-e09975ca9bcb   \n",
       "4  06.12.2020_18:08:47.262  00bf7e9c-735f-44f4-a819-e09975ca9bcb   \n",
       "\n",
       "               bssid              ssid  \\\n",
       "0  34:ce:00:4d:64:1d     Hello_ World!   \n",
       "1  34:ce:00:4d:64:1e  Hello_ World!_5G   \n",
       "2  40:b4:f0:28:29:c1  Moscow_WiFi_Free   \n",
       "3  40:b4:f0:28:29:c3      Beeline_Free   \n",
       "4  40:b4:f0:28:29:c0  Moscow_WiFi_Free   \n",
       "\n",
       "                                        capabilities freq0  freq1  chwidth  \\\n",
       "0  [WPA-PSK-TKIP+CCMP][WPA2-PSK-TKIP+CCMP][RSN-PS...     0    0.0      0.0   \n",
       "1  [WPA-PSK-TKIP+CCMP][WPA2-PSK-TKIP+CCMP][RSN-PS...  5775    0.0      2.0   \n",
       "2                                      [ESS][WFA-HT]  5230    0.0      1.0   \n",
       "3                                      [ESS][WFA-HT]  5230    0.0      1.0   \n",
       "4                                      [ESS][WFA-HT]     0    0.0      0.0   \n",
       "\n",
       "     freq  level  operator          time  venue    802 passpoint  \n",
       "0  2422.0  -26.0       NaN  1.094820e+12    NaN  False     False  \n",
       "1  5805.0  -32.0       NaN  1.094823e+12    NaN  False     False  \n",
       "2  5220.0  -37.0       NaN  1.094820e+12    NaN  False     False  \n",
       "3  5220.0  -37.0       NaN  1.094820e+12    NaN  False     False  \n",
       "4  2462.0  -37.0       NaN  1.094822e+12    NaN  False     False  "
      ]
     },
     "execution_count": 4,
     "metadata": {},
     "output_type": "execute_result"
    }
   ],
   "source": [
    "df.head()"
   ]
  },
  {
   "cell_type": "code",
   "execution_count": 5,
   "metadata": {},
   "outputs": [
    {
     "name": "stdout",
     "output_type": "stream",
     "text": [
      "<class 'pandas.core.frame.DataFrame'>\n",
      "RangeIndex: 595134 entries, 0 to 595133\n",
      "Data columns (total 15 columns):\n",
      "timestamp       595134 non-null object\n",
      "uuid            595134 non-null object\n",
      "bssid           595134 non-null object\n",
      "ssid            586151 non-null object\n",
      "capabilities    595130 non-null object\n",
      "freq0           595130 non-null object\n",
      "freq1           595130 non-null float64\n",
      "chwidth         595130 non-null float64\n",
      "freq            595130 non-null float64\n",
      "level           595130 non-null float64\n",
      "operator        580843 non-null float64\n",
      "time            595130 non-null float64\n",
      "venue           1 non-null float64\n",
      "802             595129 non-null object\n",
      "passpoint       595130 non-null object\n",
      "dtypes: float64(7), object(8)\n",
      "memory usage: 68.1+ MB\n"
     ]
    }
   ],
   "source": [
    "df.info()"
   ]
  },
  {
   "cell_type": "code",
   "execution_count": 6,
   "metadata": {},
   "outputs": [],
   "source": [
    "df['timestamp'] = df['timestamp'].apply(lambda x: dt.strptime(x, '%d.%m.%Y_%H:%M:%S.%f'))"
   ]
  },
  {
   "cell_type": "code",
   "execution_count": 7,
   "metadata": {},
   "outputs": [],
   "source": [
    "df.index = pd.DatetimeIndex(df.timestamp)\n",
    "df = df.sort_index()"
   ]
  },
  {
   "cell_type": "code",
   "execution_count": 8,
   "metadata": {},
   "outputs": [],
   "source": [
    "df = df.drop(['timestamp', 'chwidth', 'operator', 'venue', '802', 'time', 'ssid', 'capabilities', \\\n",
    "              'passpoint', 'freq0', 'freq1'], axis = 1)"
   ]
  },
  {
   "cell_type": "code",
   "execution_count": 9,
   "metadata": {},
   "outputs": [
    {
     "name": "stdout",
     "output_type": "stream",
     "text": [
      "<class 'pandas.core.frame.DataFrame'>\n",
      "DatetimeIndex: 595134 entries, 2020-12-06 17:56:05.536000 to 2020-12-10 21:50:56.753000\n",
      "Data columns (total 4 columns):\n",
      "uuid     595134 non-null object\n",
      "bssid    595134 non-null object\n",
      "freq     595130 non-null float64\n",
      "level    595130 non-null float64\n",
      "dtypes: float64(2), object(2)\n",
      "memory usage: 22.7+ MB\n"
     ]
    }
   ],
   "source": [
    "df.info()"
   ]
  },
  {
   "cell_type": "code",
   "execution_count": 10,
   "metadata": {},
   "outputs": [],
   "source": [
    "bssid_map = { bssid.replace(' ', ''): idx for bssid, idx in zip(df.bssid.unique(), range(len(df.bssid.unique()))) }"
   ]
  },
  {
   "cell_type": "code",
   "execution_count": 11,
   "metadata": {},
   "outputs": [],
   "source": [
    "df.bssid = df.bssid.apply(lambda x: str(x).replace(' ', ''))\n",
    "df.level = df.level.apply(lambda x: str(x).replace(' ', ''))\n",
    "df.freq = df.freq.apply(lambda x: str(x).replace(' ', ''))"
   ]
  },
  {
   "cell_type": "code",
   "execution_count": 12,
   "metadata": {},
   "outputs": [],
   "source": [
    "df['bssid_level'] = df[['bssid', 'level']].agg(','.join, axis=1)\n",
    "df['count'] = 1"
   ]
  },
  {
   "cell_type": "code",
   "execution_count": 13,
   "metadata": {},
   "outputs": [],
   "source": [
    "def agg_string_join(col):\n",
    "    col = col.apply(lambda x: str(x))\n",
    "    return col.str.cat(sep = ',').replace(' ', '')"
   ]
  },
  {
   "cell_type": "code",
   "execution_count": 14,
   "metadata": {},
   "outputs": [],
   "source": [
    "def agg_bssid_col(col):\n",
    "    array_len = len(bssid_map)\n",
    "    array = np.zeros(array_len, dtype = 'float')\n",
    "    def fill_array(x):\n",
    "        tmp = x.split(',')\n",
    "        bssid = tmp[0]\n",
    "        level = float(tmp[1])\n",
    "        array[bssid_map[bssid.replace(' ', '')]] = level\n",
    "        return\n",
    "        \n",
    "    col.apply(lambda x: fill_array(x))\n",
    "    return np.array2string(array, separator = ',').replace(' ', '')[1:-1]"
   ]
  },
  {
   "cell_type": "code",
   "execution_count": 15,
   "metadata": {},
   "outputs": [],
   "source": [
    "all_func_dicts_quantum = { 'freq': agg_string_join, 'level': agg_string_join, 'bssid_level' : agg_bssid_col, 'count' : 'sum' }"
   ]
  },
  {
   "cell_type": "code",
   "execution_count": 16,
   "metadata": {},
   "outputs": [],
   "source": [
    "df_quantum = df.groupby(['timestamp', 'uuid'], as_index=True).agg(all_func_dicts_quantum)"
   ]
  },
  {
   "cell_type": "code",
   "execution_count": 17,
   "metadata": {},
   "outputs": [],
   "source": [
    "df_quantum = df_quantum.reset_index()\n",
    "df_quantum.index = pd.DatetimeIndex(df_quantum.timestamp)"
   ]
  },
  {
   "cell_type": "code",
   "execution_count": 18,
   "metadata": {},
   "outputs": [],
   "source": [
    "df_quantum = df_quantum[df_quantum['count'] != 0]"
   ]
  },
  {
   "cell_type": "code",
   "execution_count": 19,
   "metadata": {},
   "outputs": [],
   "source": [
    "df_conn = pd.read_csv(\".\\\\_generated\\\\conn_wifi_5.data\", index_col = False, header = None, low_memory = False, \\\n",
    "                 names = ['timestamp', 'uuid', 'stamp', 'bssid', '1', '2', '3', '4', '5', '6', 'level', '8'])\n",
    "\n",
    "df_conn = df_conn.drop(df_conn.columns.difference(['bssid','timestamp', 'level']), axis = 1)\n",
    "df_conn['timestamp'] = df_conn['timestamp'].apply(lambda x: dt.strptime(x, '%d.%m.%Y_%H:%M:%S.%f'))\n",
    "df_conn.index = pd.DatetimeIndex(df_conn.timestamp)\n",
    "df_conn = df_conn.sort_index()"
   ]
  },
  {
   "cell_type": "code",
   "execution_count": 20,
   "metadata": {},
   "outputs": [],
   "source": [
    "def get_level_from_row(row):\n",
    "    bssid = df_conn.iloc[df_conn.index.get_loc(row.name, method = 'nearest')]['bssid']\n",
    "    if str(bssid) == 'nan' or str(bssid) == 'null' or str(bssid) == '':\n",
    "        return 0\n",
    "    \n",
    "    level = df_conn.iloc[df_conn.index.get_loc(row.name, method = 'nearest')]['level']\n",
    "    time = df_conn.iloc[df_conn.index.get_loc(row.name, method = 'nearest')]['timestamp']\n",
    "    return level if abs((time - row.name).total_seconds()) <= 10 else 0\n",
    "\n",
    "\n",
    "df_quantum['conn_level'] = df_quantum.apply(lambda row: get_level_from_row(row), axis = 1)"
   ]
  },
  {
   "cell_type": "code",
   "execution_count": 21,
   "metadata": {},
   "outputs": [],
   "source": [
    "def string2array(string):\n",
    "    try:\n",
    "        array = np.fromstring(string, sep=',')\n",
    "        return array\n",
    "    except:\n",
    "        return np.nan\n",
    "\n",
    "def to_ones_array(array):\n",
    "    try:\n",
    "        array[array != 0] = 1\n",
    "        return array\n",
    "    except:\n",
    "        return np.nan\n",
    "\n",
    "def get_len(obj):\n",
    "    try:\n",
    "        length = len(obj)\n",
    "        return length\n",
    "    except:\n",
    "        return np.nan"
   ]
  },
  {
   "cell_type": "code",
   "execution_count": 22,
   "metadata": {},
   "outputs": [],
   "source": [
    "def get_occured_nets_count(row, prev_col, curr_col):\n",
    "    prev = to_ones_array(string2array(row[prev_col]))\n",
    "    curr = to_ones_array(string2array(row[curr_col]))\n",
    "    intersection = np.logical_and(curr, prev)\n",
    "    diff = np.logical_and(curr, np.logical_not(intersection))\n",
    "    \n",
    "    if (np.count_nonzero(np.logical_or(prev, curr)) == 0):\n",
    "        return 0\n",
    "    \n",
    "    return np.count_nonzero(diff) / np.count_nonzero(np.logical_or(prev, curr))\n",
    "\n",
    "def get_disappeared_nets_count(row, prev_col, curr_col):\n",
    "    prev = to_ones_array(string2array(row[prev_col]))\n",
    "    curr = to_ones_array(string2array(row[curr_col]))\n",
    "    intersection = np.logical_and(curr, prev)\n",
    "    diff = np.logical_and(prev, np.logical_not(intersection))\n",
    "    \n",
    "    if (np.count_nonzero(np.logical_or(prev, curr)) == 0):\n",
    "        return 0\n",
    "    \n",
    "    return np.count_nonzero(diff) / np.count_nonzero(np.logical_or(prev, curr))\n",
    "\n",
    "def get_jaccard_index(row, prev_col, curr_col):\n",
    "    prev = to_ones_array(string2array(row[prev_col]))\n",
    "    curr = to_ones_array(string2array(row[curr_col]))\n",
    "    return distance.jaccard(prev, curr)\n",
    "\n",
    "def get_occur_speed(row, prev_col, curr_col):\n",
    "    prev = to_ones_array(string2array(row[prev_col]))\n",
    "    curr = to_ones_array(string2array(row[curr_col]))\n",
    "    return np.linalg.norm(prev - curr) / np.sqrt(get_len(prev))\n",
    "    \n",
    "def get_level_speed(row, prev_col, curr_col):\n",
    "    prev = string2array(row[prev_col])\n",
    "    curr = string2array(row[curr_col])\n",
    "    return np.linalg.norm(prev - curr) / np.sqrt(get_len(prev))\n",
    "\n",
    "def calc_single_cols_in_window(df, col, new_col, window, func):\n",
    "    def func_wrapper(func, row, prev_col, curr_col):\n",
    "        delta = row.timestamp - row.prev_timestamp\n",
    "        if pd.isnull(delta):\n",
    "            delta = 0\n",
    "        else:\n",
    "            delta = abs(delta.total_seconds())\n",
    "        if delta > 10 * 60:\n",
    "            return np.nan\n",
    "        else:\n",
    "            return func(row, prev_col_name, col)\n",
    "        \n",
    "    new_cols = []\n",
    "        \n",
    "    for i in range(window):\n",
    "        prev_col_name = \"_\".join(['prev', col, str(i + 1)])\n",
    "        new_col_name = \"_\".join([new_col, str(i + 1)])\n",
    "        \n",
    "        df['prev_timestamp'] = df.timestamp.shift(i + 1)\n",
    "        df[prev_col_name] = df[col].shift(i + 1)\n",
    "        df[new_col_name] = df.apply(lambda row: func_wrapper(func, row, prev_col_name, col), axis = 1)\n",
    "        df = df.drop(prev_col_name, axis = 1)\n",
    "        df = df.drop('prev_timestamp', axis = 1)\n",
    "        new_cols.append(new_col_name)\n",
    "        \n",
    "    df[\"_\".join([new_col, 'mean'])] = df[new_cols].mean(axis = 1)\n",
    "    df[\"_\".join([new_col, 'median'])] = df[new_cols].median(axis = 1)\n",
    "    df[\"_\".join([new_col, 'var'])] = df[new_cols].var(axis = 1)\n",
    "        \n",
    "    return df"
   ]
  },
  {
   "cell_type": "code",
   "execution_count": 23,
   "metadata": {},
   "outputs": [],
   "source": [
    "WINDOW_SIZE = 3\n",
    "\n",
    "occur_and_level_columns_map = [\n",
    "    (\"bssid_level\", \"occured_nets_count\", WINDOW_SIZE, get_occured_nets_count),\n",
    "    (\"bssid_level\", \"disappeared_nets_count\", WINDOW_SIZE, get_disappeared_nets_count),\n",
    "    (\"bssid_level\", \"jaccard_index\", WINDOW_SIZE, get_jaccard_index), \n",
    "    (\"bssid_level\", \"occur_speed\", WINDOW_SIZE, get_occur_speed),\n",
    "    (\"bssid_level\", \"level_speed\", WINDOW_SIZE, get_level_speed)\n",
    "]\n",
    "\n",
    "for (col, new_col, window, func) in occur_and_level_columns_map:\n",
    "    df_quantum = calc_single_cols_in_window(df_quantum, col, new_col, window, func)"
   ]
  },
  {
   "cell_type": "code",
   "execution_count": 24,
   "metadata": {},
   "outputs": [],
   "source": [
    "def get_conn_level_speed(row, prev_col, curr_col):\n",
    "    return row[curr_col] - row[prev_col]"
   ]
  },
  {
   "cell_type": "code",
   "execution_count": 25,
   "metadata": {},
   "outputs": [],
   "source": [
    "WINDOW_SIZE = 3\n",
    "\n",
    "single_columns_map = [\n",
    "    (\"conn_level\", \"conn_level_speed\", WINDOW_SIZE, get_conn_level_speed),\n",
    "    (\"count\", \"count_speed\", WINDOW_SIZE, get_conn_level_speed)\n",
    "]\n",
    "\n",
    "for (col, new_col, window, func) in single_columns_map:\n",
    "    df_quantum = calc_single_cols_in_window(df_quantum, col, new_col, window, func)"
   ]
  },
  {
   "cell_type": "code",
   "execution_count": 26,
   "metadata": {},
   "outputs": [],
   "source": [
    "def get_acceleration(row, prev_col, curr_col):\n",
    "    return abs(row[curr_col] - row[prev_col])"
   ]
  },
  {
   "cell_type": "code",
   "execution_count": 27,
   "metadata": {},
   "outputs": [],
   "source": [
    "WINDOW_SIZE = 3\n",
    "\n",
    "multi_speed_cols = [\"occured_nets_count_mean\", \"jaccard_index_mean\", \"occur_speed_mean\", \"disappeared_nets_count_mean\", \n",
    "                    \"conn_level_speed_mean\", \"count_speed_mean\"]\n",
    "\n",
    "for col in multi_speed_cols:\n",
    "    df_quantum = calc_single_cols_in_window(df_quantum, col, \"_\".join([\"acceleration\", col]), window, func)"
   ]
  },
  {
   "cell_type": "code",
   "execution_count": 28,
   "metadata": {},
   "outputs": [],
   "source": [
    "def agg_str(col):\n",
    "#     all_freq = col.str.cat(sep=',')\n",
    "    return string2array(col)\n",
    "\n",
    "def str_mean(col):\n",
    "    array = agg_str(col)\n",
    "    if str(array) == 'nan':\n",
    "        return 0 \n",
    "    return np.mean(array)\n",
    "\n",
    "# def str_var(col):\n",
    "#     array = agg_str(col)\n",
    "#     if str(array) == 'nan':\n",
    "#         return 0 \n",
    "#     return np.var(array)\n",
    "\n",
    "# def str_median(col):\n",
    "#     array = agg_str(col)\n",
    "#     if str(array) == 'nan':\n",
    "#         return 0 \n",
    "#     return np.median(array)\n",
    "\n",
    "# def str_skew(col):\n",
    "#     array = agg_str(col)\n",
    "#     if str(array) == 'nan':\n",
    "#         return 0 \n",
    "#     return stats.skew(array)\n",
    "\n",
    "# def str_kurt(col):\n",
    "#     array = agg_str(col)\n",
    "#     if str(array) == 'nan':\n",
    "#         return 0 \n",
    "#     return stats.kurtosis(array)\n",
    "\n",
    "def mean(col):\n",
    "    return np.mean(col)\n",
    "\n",
    "def var(col):\n",
    "    return np.var(col)\n",
    "\n",
    "def median(col):\n",
    "    return np.median(col)\n",
    "\n",
    "def skew(col):\n",
    "    return stats.skew(col)\n",
    "\n",
    "def kurt(col):\n",
    "    return stats.kurtosis(col)"
   ]
  },
  {
   "cell_type": "code",
   "execution_count": 29,
   "metadata": {},
   "outputs": [],
   "source": [
    "df_quantum['freq'] = df_quantum.apply(lambda row: str_mean(row['freq']), axis = 1)\n",
    "df_quantum['level'] = df_quantum.apply(lambda row: str_mean(row['level']), axis = 1)"
   ]
  },
  {
   "cell_type": "code",
   "execution_count": 30,
   "metadata": {},
   "outputs": [],
   "source": [
    "df_quantum = df_quantum.drop(['bssid_level', 'timestamp', 'uuid'], axis = 1)"
   ]
  },
  {
   "cell_type": "code",
   "execution_count": 31,
   "metadata": {},
   "outputs": [],
   "source": [
    "# string_common_cols = df_quantum.columns[1:3]\n",
    "common_cols = df_quantum.columns[1:5]\n",
    "speed_acc_cols = df_quantum.columns[5:]\n",
    "\n",
    "# string_common_funcs_list = [str_mean, str_var, str_median, str_skew, str_kurt]\n",
    "common_funcs_list = [mean, var, median, skew, kurt]\n",
    "special_funcs_list = [mean, pd.DataFrame.mad, skew]\n",
    "\n",
    "common_cols_map = { col : common_funcs_list for col in common_cols }\n",
    "# string_common_cols_map = { col : string_common_funcs_list for col in string_common_cols }\n",
    "speed_acc_cols_map = { col : special_funcs_list for col in speed_acc_cols }\n",
    "\n",
    "agg_dict = common_cols_map\n",
    "# agg_dict.update(string_common_cols_map)\n",
    "agg_dict.update(speed_acc_cols_map)"
   ]
  },
  {
   "cell_type": "code",
   "execution_count": 32,
   "metadata": {},
   "outputs": [],
   "source": [
    "df_quantum[speed_acc_cols] = df_quantum[speed_acc_cols].apply(pd.to_numeric)"
   ]
  },
  {
   "cell_type": "code",
   "execution_count": 33,
   "metadata": {},
   "outputs": [
    {
     "name": "stderr",
     "output_type": "stream",
     "text": [
      "D:\\Program Files\\Anaconda3\\lib\\site-packages\\numpy\\core\\fromnumeric.py:3118: RuntimeWarning: Mean of empty slice.\n",
      "  out=out, **kwargs)\n",
      "D:\\Program Files\\Anaconda3\\lib\\site-packages\\numpy\\core\\_methods.py:85: RuntimeWarning: invalid value encountered in double_scalars\n",
      "  ret = ret.dtype.type(ret / rcount)\n",
      "D:\\Program Files\\Anaconda3\\lib\\site-packages\\numpy\\lib\\function_base.py:3405: RuntimeWarning: Invalid value encountered in median\n",
      "  r = func(a, **kwargs)\n"
     ]
    }
   ],
   "source": [
    "df_sampling = df_quantum.groupby(pd.Grouper(freq = TIME_SAMPLE_FREQ)).agg(agg_dict)"
   ]
  },
  {
   "cell_type": "code",
   "execution_count": 34,
   "metadata": {},
   "outputs": [],
   "source": [
    "df_rolling = df_quantum.rolling(TIME_SAMPLE_FREQ, min_periods = 1, center = False).agg(agg_dict)"
   ]
  },
  {
   "cell_type": "code",
   "execution_count": 35,
   "metadata": {},
   "outputs": [],
   "source": [
    "df_sampling.columns = [\"_\".join([str(high_level_name), str(low_level_name)]) \\\n",
    "                       for (high_level_name, low_level_name) in df_sampling.columns.values]\n",
    "\n",
    "df_rolling.columns = [\"_\".join([str(high_level_name), str(low_level_name)]) \\\n",
    "                      for (high_level_name, low_level_name) in df_rolling.columns.values]"
   ]
  },
  {
   "cell_type": "code",
   "execution_count": 36,
   "metadata": {},
   "outputs": [],
   "source": [
    "df_sampling = df_sampling.dropna()\n",
    "df_sampling = df_sampling.fillna(0)\n",
    "\n",
    "df_rolling = df_rolling.dropna()\n",
    "df_rolling = df_rolling.fillna(0)"
   ]
  },
  {
   "cell_type": "code",
   "execution_count": 37,
   "metadata": {},
   "outputs": [],
   "source": [
    "# df_rolling['day_time'] = df_rolling.apply(lambda x: x.name.hour + x.name.minute / 60 , axis = 1)\n",
    "# df_sampling['day_time'] = df_sampling.apply(lambda x: x.name.hour + x.name.minute / 60 , axis = 1)"
   ]
  },
  {
   "cell_type": "code",
   "execution_count": 38,
   "metadata": {},
   "outputs": [],
   "source": [
    "df_sampling.to_csv(\".\\\\_datasets\\\\5s\\\\wifi_sampling_dataset_5.csv\")\n",
    "df_rolling.to_csv(\".\\\\_datasets\\\\5s\\\\wifi_rolling_dataset_5.csv\")"
   ]
  },
  {
   "cell_type": "code",
   "execution_count": null,
   "metadata": {},
   "outputs": [],
   "source": []
  }
 ],
 "metadata": {
  "kernelspec": {
   "display_name": "Python 3",
   "language": "python",
   "name": "python3"
  },
  "language_info": {
   "codemirror_mode": {
    "name": "ipython",
    "version": 3
   },
   "file_extension": ".py",
   "mimetype": "text/x-python",
   "name": "python",
   "nbconvert_exporter": "python",
   "pygments_lexer": "ipython3",
   "version": "3.7.3"
  }
 },
 "nbformat": 4,
 "nbformat_minor": 2
}
